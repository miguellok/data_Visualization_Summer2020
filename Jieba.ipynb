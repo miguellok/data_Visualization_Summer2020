{
 "cells": [
  {
   "cell_type": "markdown",
   "metadata": {},
   "source": [
    "# Jieba\n",
    "## 支持三種分詞模式：\n",
    "* 精確模式，試圖將句子最精確地切開，適合文本分析；\n",
    "* 全模式，把句子中所有的可以成詞的詞語都掃描出來, 速度非常快，但是不能解決歧義；\n",
    "* 搜索引擎模式，在精確模式的基礎上，對長詞再次切分，提高召回率，適合用於搜索引擎分詞。\n",
    "\n",
    "## 支持繁體分詞\n",
    "## 支持自定義詞典"
   ]
  },
  {
   "cell_type": "code",
   "execution_count": 1,
   "metadata": {},
   "outputs": [],
   "source": [
    "import jieba"
   ]
  },
  {
   "cell_type": "code",
   "execution_count": 2,
   "metadata": {},
   "outputs": [],
   "source": [
    "sentence = '哈囉,大家好,我叫大明哥,剛從北商大畢業,讓我來測試如何使用結巴的各種模式吧'"
   ]
  },
  {
   "cell_type": "code",
   "execution_count": 3,
   "metadata": {},
   "outputs": [
    {
     "name": "stderr",
     "output_type": "stream",
     "text": [
      "Building prefix dict from the default dictionary ...\n",
      "Loading model from cache C:\\Users\\MIGUEL~1\\AppData\\Local\\Temp\\jieba.cache\n",
      "Loading model cost 0.665 seconds.\n",
      "Prefix dict has been built succesfully.\n"
     ]
    },
    {
     "name": "stdout",
     "output_type": "stream",
     "text": [
      "Full Mode:  哈/囉///大家/好///我/叫/大明/哥///剛/從/北商/商大/畢/業///讓/我/來/測/試/如何/使用/結/巴/的/各/種/模式/吧\n"
     ]
    }
   ],
   "source": [
    "seg_list = jieba.cut(sentence,cut_all=True)\n",
    "print('Full Mode: ','/'.join(seg_list)) # 全模式"
   ]
  },
  {
   "cell_type": "code",
   "execution_count": 4,
   "metadata": {},
   "outputs": [
    {
     "name": "stdout",
     "output_type": "stream",
     "text": [
      "Default Mode:  哈/囉/,/大家/好/,/我/叫/大明/哥/,/剛從/北商/大/畢業/,/讓/我/來/測試/如何/使用/結巴/的/各種/模式/吧\n"
     ]
    }
   ],
   "source": [
    "seg_list = jieba.cut(sentence,cut_all=False)\n",
    "print('Default Mode: ','/'.join(seg_list)) # 精確模式"
   ]
  },
  {
   "cell_type": "code",
   "execution_count": 5,
   "metadata": {},
   "outputs": [
    {
     "name": "stdout",
     "output_type": "stream",
     "text": [
      "哈/囉/,/大家/好/,/我/叫/大明/哥/,/剛從/北商/大/畢業/,/讓/我/來/測試/如何/使用/結巴/的/各種/模式/吧\n"
     ]
    }
   ],
   "source": [
    "seg_list = jieba.cut(sentence)\n",
    "print('/'.join(seg_list)) # 默認精確模式"
   ]
  },
  {
   "cell_type": "code",
   "execution_count": 6,
   "metadata": {},
   "outputs": [
    {
     "name": "stdout",
     "output_type": "stream",
     "text": [
      "Search Mode:  哈/囉/,/大家/好/,/我/叫/大明/哥/,/剛從/北商/大/畢業/,/讓/我/來/測試/如何/使用/結巴/的/各種/模式/吧\n"
     ]
    }
   ],
   "source": [
    "seg_list = jieba.cut_for_search(sentence)\n",
    "print('Search Mode: ','/'.join(seg_list)) # 搜尋引擎模式斷詞"
   ]
  },
  {
   "cell_type": "code",
   "execution_count": 7,
   "metadata": {},
   "outputs": [],
   "source": [
    "# 下載 繁體中文詞庫  https://raw.githubusercontent.com/fxsjy/jieba/master/extra_dict/dict.txt.big\n",
    "jieba.set_dictionary('./jieba_dictionary/dict.txt.big')\n",
    "# 修改中文詞典，讓斷詞更聰明"
   ]
  },
  {
   "cell_type": "code",
   "execution_count": 8,
   "metadata": {},
   "outputs": [
    {
     "name": "stderr",
     "output_type": "stream",
     "text": [
      "Building prefix dict from C:\\Users\\miguellok\\Google 雲端硬碟\\Coding練習\\Jupyter_Practice\\data Visualization\\jieba_dictionary\\dict.txt.big ...\n",
      "Loading model from cache C:\\Users\\MIGUEL~1\\AppData\\Local\\Temp\\jieba.uad66765783dd9ab50db5e66fa45f6ef2.cache\n",
      "Loading model cost 1.167 seconds.\n",
      "Prefix dict has been built succesfully.\n"
     ]
    },
    {
     "name": "stdout",
     "output_type": "stream",
     "text": [
      "哈囉/,/大家/好/,/我/叫/大明哥/,/剛從/北商/大/畢業/,/讓/我/來/測試/如何/使用/結巴/的/各種/模式/吧\n"
     ]
    }
   ],
   "source": [
    "seg_list = jieba.cut(sentence)\n",
    "print('/'.join(seg_list)) # 默認精確模式"
   ]
  },
  {
   "cell_type": "code",
   "execution_count": 13,
   "metadata": {},
   "outputs": [],
   "source": [
    "jieba.add_word('北商大')  # 手動增加/刪除 自定義詞"
   ]
  },
  {
   "cell_type": "code",
   "execution_count": 10,
   "metadata": {},
   "outputs": [
    {
     "name": "stdout",
     "output_type": "stream",
     "text": [
      "哈囉/,/大家/好/,/我/叫/大明哥/,/剛從/北商大/畢業/,/讓/我/來/測試/如何/使用/結巴/的/各種/模式/吧\n"
     ]
    }
   ],
   "source": [
    "seg_list = jieba.cut(sentence)\n",
    "print('/'.join(seg_list)) "
   ]
  },
  {
   "cell_type": "code",
   "execution_count": 11,
   "metadata": {},
   "outputs": [],
   "source": [
    "jieba.del_word('北商大')"
   ]
  },
  {
   "cell_type": "code",
   "execution_count": 12,
   "metadata": {},
   "outputs": [
    {
     "name": "stdout",
     "output_type": "stream",
     "text": [
      "哈囉/,/大家/好/,/我/叫/大明哥/,/剛從/北商/大/畢業/,/讓/我/來/測試/如何/使用/結巴/的/各種/模式/吧\n"
     ]
    }
   ],
   "source": [
    "seg_list = jieba.cut(sentence)\n",
    "print('/'.join(seg_list)) "
   ]
  },
  {
   "cell_type": "code",
   "execution_count": 15,
   "metadata": {},
   "outputs": [],
   "source": [
    "# 增加自定義詞典斷詞\n",
    "jieba.load_userdict('./jieba_dictionary/user_defined_dict.txt')"
   ]
  },
  {
   "cell_type": "code",
   "execution_count": 16,
   "metadata": {},
   "outputs": [
    {
     "name": "stdout",
     "output_type": "stream",
     "text": [
      "哈囉/,/大家/好/,/我/叫/大明哥/,/剛從/北商大/畢業/,/讓/我/來/測試/如何/使用/結巴/的/各種/模式/吧\n"
     ]
    }
   ],
   "source": [
    "seg_list = jieba.cut(sentence)\n",
    "print('/'.join(seg_list)) "
   ]
  },
  {
   "cell_type": "code",
   "execution_count": 20,
   "metadata": {},
   "outputs": [
    {
     "name": "stdout",
     "output_type": "stream",
     "text": [
      "停用詞:,/./;/:/，/。/；/：\n"
     ]
    }
   ],
   "source": [
    "with open('jieba_dictionary/stopwords.txt','r',encoding='utf-8') as file:\n",
    "    stops = file.read().split('\\n')\n",
    "print('停用詞:'+'/'.join(stops))"
   ]
  },
  {
   "cell_type": "code",
   "execution_count": null,
   "metadata": {},
   "outputs": [],
   "source": [
    "for "
   ]
  }
 ],
 "metadata": {
  "kernelspec": {
   "display_name": "Python 3",
   "language": "python",
   "name": "python3"
  },
  "language_info": {
   "codemirror_mode": {
    "name": "ipython",
    "version": 3
   },
   "file_extension": ".py",
   "mimetype": "text/x-python",
   "name": "python",
   "nbconvert_exporter": "python",
   "pygments_lexer": "ipython3",
   "version": "3.6.5"
  },
  "varInspector": {
   "cols": {
    "lenName": 16,
    "lenType": 16,
    "lenVar": 40
   },
   "kernels_config": {
    "python": {
     "delete_cmd_postfix": "",
     "delete_cmd_prefix": "del ",
     "library": "var_list.py",
     "varRefreshCmd": "print(var_dic_list())"
    },
    "r": {
     "delete_cmd_postfix": ") ",
     "delete_cmd_prefix": "rm(",
     "library": "var_list.r",
     "varRefreshCmd": "cat(var_dic_list()) "
    }
   },
   "types_to_exclude": [
    "module",
    "function",
    "builtin_function_or_method",
    "instance",
    "_Feature"
   ],
   "window_display": false
  }
 },
 "nbformat": 4,
 "nbformat_minor": 2
}
