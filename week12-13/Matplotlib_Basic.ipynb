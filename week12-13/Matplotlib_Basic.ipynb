{
 "cells": [
  {
   "cell_type": "markdown",
   "metadata": {},
   "source": [
    "# Numpy"
   ]
  },
  {
   "cell_type": "markdown",
   "metadata": {},
   "source": [
    "![Numpy Array](Numpy_array.png)"
   ]
  },
  {
   "cell_type": "code",
   "execution_count": 1,
   "metadata": {},
   "outputs": [],
   "source": [
    "import random"
   ]
  },
  {
   "cell_type": "code",
   "execution_count": 2,
   "metadata": {},
   "outputs": [
    {
     "data": {
      "text/plain": [
       "7"
      ]
     },
     "execution_count": 2,
     "metadata": {},
     "output_type": "execute_result"
    }
   ],
   "source": [
    "random.randint(1,10)"
   ]
  },
  {
   "cell_type": "code",
   "execution_count": 3,
   "metadata": {},
   "outputs": [],
   "source": [
    "import numpy as np"
   ]
  },
  {
   "cell_type": "code",
   "execution_count": 4,
   "metadata": {},
   "outputs": [],
   "source": [
    "w1= [7, -1, 6, 3]"
   ]
  },
  {
   "cell_type": "code",
   "execution_count": 5,
   "metadata": {},
   "outputs": [
    {
     "data": {
      "text/plain": [
       "list"
      ]
     },
     "execution_count": 5,
     "metadata": {},
     "output_type": "execute_result"
    }
   ],
   "source": [
    "type(w1)"
   ]
  },
  {
   "cell_type": "code",
   "execution_count": 6,
   "metadata": {},
   "outputs": [],
   "source": [
    "w = np.array([7, -1, 6, 3])"
   ]
  },
  {
   "cell_type": "code",
   "execution_count": 7,
   "metadata": {},
   "outputs": [
    {
     "data": {
      "text/plain": [
       "numpy.ndarray"
      ]
     },
     "execution_count": 7,
     "metadata": {},
     "output_type": "execute_result"
    }
   ],
   "source": [
    "type(w)"
   ]
  },
  {
   "cell_type": "code",
   "execution_count": 8,
   "metadata": {},
   "outputs": [
    {
     "data": {
      "text/plain": [
       "[0, 1, 2, 3, 4, 5, 6, 7, 8, 9]"
      ]
     },
     "execution_count": 8,
     "metadata": {},
     "output_type": "execute_result"
    }
   ],
   "source": [
    "list(range(10))"
   ]
  },
  {
   "cell_type": "code",
   "execution_count": 9,
   "metadata": {},
   "outputs": [
    {
     "data": {
      "text/plain": [
       "array([ 0, 10, 20, 30, 40, 50, 60, 70, 80, 90])"
      ]
     },
     "execution_count": 9,
     "metadata": {},
     "output_type": "execute_result"
    }
   ],
   "source": [
    "np.arange(0,100,10)"
   ]
  },
  {
   "cell_type": "code",
   "execution_count": 10,
   "metadata": {},
   "outputs": [
    {
     "data": {
      "text/plain": [
       "array([ 1.  ,  3.25,  5.5 ,  7.75, 10.  ])"
      ]
     },
     "execution_count": 10,
     "metadata": {},
     "output_type": "execute_result"
    }
   ],
   "source": [
    "np.linspace(1,10,5)"
   ]
  },
  {
   "cell_type": "code",
   "execution_count": 11,
   "metadata": {},
   "outputs": [
    {
     "data": {
      "text/plain": [
       "array([55, 78, 17, 28, 82])"
      ]
     },
     "execution_count": 11,
     "metadata": {},
     "output_type": "execute_result"
    }
   ],
   "source": [
    "np.random.randint(0,100,5)"
   ]
  },
  {
   "cell_type": "code",
   "execution_count": 12,
   "metadata": {},
   "outputs": [
    {
     "name": "stdout",
     "output_type": "stream",
     "text": [
      "[ 7 -1  6  3]\n",
      "[ True False  True  True]\n",
      "[0 1 2 3 4 5 6 7 8 9]\n",
      "[-1.33493657  0.55835516 -2.49148024  0.91324997 -0.54210712  0.5094721\n",
      " -0.21824301  1.38747998  1.44932696 -0.30212091]\n",
      "[0.  0.5 1.  1.5 2. ]\n"
     ]
    }
   ],
   "source": [
    "# 匯入numpy套件，為了簡化程式碼，將它套件另外命名成np\n",
    "import numpy as np\n",
    "# 建立一個陣列，有4個資料\n",
    "w = np.array([7, -1, 6, 3])\n",
    "# 印出陣列w\n",
    "print(w)\n",
    "# 判斷陣列中的值是否大於0\n",
    "print(w>0)\n",
    "# 建立一個從0開始，小於10的連續整數陣列，總共10個元素\n",
    "x = np.arange(10)\n",
    "# 印出陣列x\n",
    "print(x)\n",
    "# 建立一個陣列，包含10個亂數\n",
    "y = np.random.randn(10)\n",
    "# 印出陣列y\n",
    "print(y)\n",
    "# 建立一個array, 在0與2的範圍之間讓5個點等分\n",
    "z = np.linspace(0, 2, 5) \n",
    "# 印出陣列z\n",
    "print(z)"
   ]
  },
  {
   "cell_type": "markdown",
   "metadata": {},
   "source": [
    "# 創造資料"
   ]
  },
  {
   "cell_type": "code",
   "execution_count": 13,
   "metadata": {},
   "outputs": [],
   "source": [
    "import numpy as np\n",
    "# 建立一個陣列，有4個資料\n",
    "w = np.array([7, -1, 6, 3])  # 印出陣列w\n",
    "# 建立一個從0開始，小於10的連續整數陣列，總共10個元素\n",
    "x = np.arange(10)\n",
    "# 建立一個陣列，包含10個亂數\n",
    "y = np.random.randn(10)\n",
    "# 建立一個array, 在0與2的範圍之間讓5個點等分\n",
    "z = np.linspace(0, 2, 5) "
   ]
  },
  {
   "cell_type": "code",
   "execution_count": 14,
   "metadata": {},
   "outputs": [
    {
     "name": "stdout",
     "output_type": "stream",
     "text": [
      "[1960. 1961. 1962. 1963. 1964. 1965. 1966. 1967. 1968. 1969. 1970. 1971.\n",
      " 1972. 1973. 1974. 1975. 1976. 1977. 1978. 1979. 1980. 1981. 1982. 1983.\n",
      " 1984. 1985. 1986. 1987. 1988. 1989. 1990. 1991. 1992. 1993. 1994. 1995.\n",
      " 1996. 1997. 1998. 1999. 2000. 2001. 2002. 2003. 2004. 2005. 2006. 2007.\n",
      " 2008. 2009. 2010. 2011. 2012. 2013. 2014. 2015. 2016. 2017.]\n"
     ]
    }
   ],
   "source": [
    "# 匯入numpy套件，為了簡化程式碼，將它套件另外命名成np\n",
    "import numpy as np\n",
    "# 製造從 1960 至 2017 的年份\n",
    "years = np.linspace(1960, 2017, 58) \n",
    "print(years)"
   ]
  },
  {
   "cell_type": "code",
   "execution_count": 15,
   "metadata": {},
   "outputs": [],
   "source": [
    "import matplotlib.pyplot as plt"
   ]
  },
  {
   "cell_type": "code",
   "execution_count": 16,
   "metadata": {},
   "outputs": [],
   "source": [
    "y =np.random.randint(1,10,58)"
   ]
  },
  {
   "cell_type": "markdown",
   "metadata": {},
   "source": [
    "# 1. 直方圖 (histogram)"
   ]
  },
  {
   "cell_type": "code",
   "execution_count": 17,
   "metadata": {},
   "outputs": [
    {
     "data": {
      "text/plain": [
       "(array([3., 5., 7., 7., 5., 9., 8., 8., 6.]),\n",
       " array([1.        , 1.88888889, 2.77777778, 3.66666667, 4.55555556,\n",
       "        5.44444444, 6.33333333, 7.22222222, 8.11111111, 9.        ]),\n",
       " <a list of 9 Patch objects>)"
      ]
     },
     "execution_count": 17,
     "metadata": {},
     "output_type": "execute_result"
    },
    {
     "data": {
      "image/png": "[encoded data removed]",
      "text/plain": [
       "<Figure size 432x288 with 1 Axes>"
      ]
     },
     "metadata": {},
     "output_type": "display_data"
    }
   ],
   "source": [
    "plt.hist(y,bins=9)"
   ]
  },
  {
   "cell_type": "code",
   "execution_count": 18,
   "metadata": {},
   "outputs": [
    {
     "data": {
      "text/plain": [
       "array([7, 6, 1, 2, 7, 7, 8, 2, 8, 7, 6, 3, 1, 3, 8, 9, 8, 5, 5, 3, 9, 5,\n",
       "       7, 6, 3, 9, 8, 9, 4, 7, 4, 6, 3, 6, 6, 8, 5, 9, 4, 2, 6, 7, 6, 4,\n",
       "       9, 1, 8, 2, 5, 8, 6, 3, 4, 7, 2, 4, 3, 4])"
      ]
     },
     "execution_count": 18,
     "metadata": {},
     "output_type": "execute_result"
    }
   ],
   "source": [
    "y"
   ]
  },
  {
   "cell_type": "code",
   "execution_count": 19,
   "metadata": {},
   "outputs": [
    {
     "name": "stdout",
     "output_type": "stream",
     "text": [
      "[0 1 2 3 4 5 6 7 8 9]\n",
      "[7 6 1 2 7 7 8 2 8 7 6 3 1 3 8 9 8 5 5 3 9 5 7 6 3 9 8 9 4 7 4 6 3 6 6 8 5\n",
      " 9 4 2 6 7 6 4 9 1 8 2 5 8 6 3 4 7 2 4 3 4]\n"
     ]
    }
   ],
   "source": [
    "print(x)\n",
    "print(y)"
   ]
  },
  {
   "cell_type": "code",
   "execution_count": 20,
   "metadata": {},
   "outputs": [
    {
     "data": {
      "text/plain": [
       "(array([1.000e+00, 0.000e+00, 0.000e+00, 2.000e+00, 3.000e+00, 9.000e+00,\n",
       "        9.000e+00, 1.500e+01, 4.500e+01, 6.800e+01, 1.020e+02, 1.900e+02,\n",
       "        3.280e+02, 4.800e+02, 7.210e+02, 1.065e+03, 1.527e+03, 2.001e+03,\n",
       "        2.692e+03, 3.491e+03, 4.119e+03, 4.939e+03, 5.838e+03, 6.501e+03,\n",
       "        6.914e+03, 7.308e+03, 7.256e+03, 7.099e+03, 6.678e+03, 6.182e+03,\n",
       "        5.337e+03, 4.667e+03, 3.849e+03, 2.950e+03, 2.266e+03, 1.716e+03,\n",
       "        1.236e+03, 8.350e+02, 5.950e+02, 3.780e+02, 2.580e+02, 1.590e+02,\n",
       "        7.200e+01, 4.800e+01, 2.200e+01, 1.100e+01, 6.000e+00, 7.000e+00,\n",
       "        4.000e+00, 1.000e+00]),\n",
       " array([-4.83184116, -4.64761263, -4.46338409, -4.27915556, -4.09492702,\n",
       "        -3.91069848, -3.72646995, -3.54224141, -3.35801287, -3.17378434,\n",
       "        -2.9895558 , -2.80532727, -2.62109873, -2.43687019, -2.25264166,\n",
       "        -2.06841312, -1.88418458, -1.69995605, -1.51572751, -1.33149898,\n",
       "        -1.14727044, -0.9630419 , -0.77881337, -0.59458483, -0.4103563 ,\n",
       "        -0.22612776, -0.04189922,  0.14232931,  0.32655785,  0.51078639,\n",
       "         0.69501492,  0.87924346,  1.06347199,  1.24770053,  1.43192907,\n",
       "         1.6161576 ,  1.80038614,  1.98461468,  2.16884321,  2.35307175,\n",
       "         2.53730028,  2.72152882,  2.90575736,  3.08998589,  3.27421443,\n",
       "         3.45844296,  3.6426715 ,  3.82690004,  4.01112857,  4.19535711,\n",
       "         4.37958565]),\n",
       " <a list of 50 Patch objects>)"
      ]
     },
     "execution_count": 20,
     "metadata": {},
     "output_type": "execute_result"
    },
    {
     "data": {
      "image/png": "[encoded data removed]",
      "text/plain": [
       "<Figure size 432x288 with 1 Axes>"
      ]
     },
     "metadata": {},
     "output_type": "display_data"
    }
   ],
   "source": [
    "plt.hist(np.random.randn(100000),bins=50)"
   ]
  },
  {
   "cell_type": "code",
   "execution_count": 21,
   "metadata": {},
   "outputs": [
    {
     "data": {
      "text/plain": [
       "(array([1665525., 1667333., 1667493., 1665550., 1666753., 1667346.]),\n",
       " array([1.        , 1.83333333, 2.66666667, 3.5       , 4.33333333,\n",
       "        5.16666667, 6.        ]),\n",
       " <a list of 6 Patch objects>)"
      ]
     },
     "execution_count": 21,
     "metadata": {},
     "output_type": "execute_result"
    },
    {
     "data": {
      "image/png": "[encoded data removed]",
      "text/plain": [
       "<Figure size 432x288 with 1 Axes>"
      ]
     },
     "metadata": {},
     "output_type": "display_data"
    }
   ],
   "source": [
    "plt.hist(np.random.randint(1,7,10000000),bins=6)"
   ]
  },
  {
   "cell_type": "markdown",
   "metadata": {},
   "source": [
    "# 2. 線圖"
   ]
  },
  {
   "cell_type": "code",
   "execution_count": 22,
   "metadata": {},
   "outputs": [
    {
     "data": {
      "image/png": "[encoded data removed]",
      "text/plain": [
       "<Figure size 432x288 with 1 Axes>"
      ]
     },
     "metadata": {},
     "output_type": "display_data"
    }
   ],
   "source": [
    "x = np.linspace(2011,2020,58)\n",
    "plt.plot(x,y,'o')\n",
    "plt.grid()"
   ]
  },
  {
   "cell_type": "code",
   "execution_count": 23,
   "metadata": {},
   "outputs": [
    {
     "data": {
      "text/plain": [
       "[<matplotlib.lines.Line2D at 0x1c9375e7f98>]"
      ]
     },
     "execution_count": 23,
     "metadata": {},
     "output_type": "execute_result"
    },
    {
     "data": {
      "image/png": "[encoded data removed]",
      "text/plain": [
       "<Figure size 432x288 with 1 Axes>"
      ]
     },
     "metadata": {},
     "output_type": "display_data"
    }
   ],
   "source": [
    "plt.plot(y,'^k')"
   ]
  },
  {
   "cell_type": "markdown",
   "metadata": {},
   "source": [
    "# 3. 散佈圖"
   ]
  },
  {
   "cell_type": "code",
   "execution_count": 24,
   "metadata": {},
   "outputs": [
    {
     "data": {
      "text/plain": [
       "<matplotlib.collections.PathCollection at 0x1c93764ae48>"
      ]
     },
     "execution_count": 24,
     "metadata": {},
     "output_type": "execute_result"
    },
    {
     "data": {
      "image/png": "[encoded data removed]",
      "text/plain": [
       "<Figure size 432x288 with 1 Axes>"
      ]
     },
     "metadata": {},
     "output_type": "display_data"
    }
   ],
   "source": [
    "plt.scatter(x,y)"
   ]
  },
  {
   "cell_type": "markdown",
   "metadata": {},
   "source": [
    "# 4. 長條圖"
   ]
  },
  {
   "cell_type": "code",
   "execution_count": 25,
   "metadata": {},
   "outputs": [
    {
     "data": {
      "text/plain": [
       "Text(0.5,1,'Stock Price')"
      ]
     },
     "execution_count": 25,
     "metadata": {},
     "output_type": "execute_result"
    },
    {
     "data": {
      "image/png": "[encoded data removed]",
      "text/plain": [
       "<Figure size 432x288 with 1 Axes>"
      ]
     },
     "metadata": {},
     "output_type": "display_data"
    }
   ],
   "source": [
    "labels = ['Physics', 'Chemistry', 'Literature', 'Peace']\n",
    "foo_data = [3, 6, 10, 4]\n",
    "bar_width = 0.5\n",
    "xlocations = np.array(range(len(foo_data))) + bar_width\n",
    "plt.bar(xlocations, foo_data, width=bar_width)\n",
    "plt.title('Stock Price')"
   ]
  },
  {
   "cell_type": "markdown",
   "metadata": {},
   "source": [
    "# 5. 盒鬚圖"
   ]
  },
  {
   "cell_type": "markdown",
   "metadata": {},
   "source": [
    "![Boxplot](boxplot.jpg)"
   ]
  },
  {
   "cell_type": "code",
   "execution_count": 26,
   "metadata": {},
   "outputs": [
    {
     "data": {
      "text/plain": [
       "{'whiskers': [<matplotlib.lines.Line2D at 0x1c9386e2b38>,\n",
       "  <matplotlib.lines.Line2D at 0x1c9386f00b8>],\n",
       " 'caps': [<matplotlib.lines.Line2D at 0x1c9386f0518>,\n",
       "  <matplotlib.lines.Line2D at 0x1c9386f0978>],\n",
       " 'boxes': [<matplotlib.lines.Line2D at 0x1c9386e29e8>],\n",
       " 'medians': [<matplotlib.lines.Line2D at 0x1c9386f0d68>],\n",
       " 'fliers': [<matplotlib.lines.Line2D at 0x1c9386f6208>],\n",
       " 'means': []}"
      ]
     },
     "execution_count": 26,
     "metadata": {},
     "output_type": "execute_result"
    },
    {
     "data": {
      "image/png": "[encoded data removed]",
      "text/plain": [
       "<Figure size 432x288 with 1 Axes>"
      ]
     },
     "metadata": {},
     "output_type": "display_data"
    }
   ],
   "source": [
    "num = [1,2,3,4,5,6,7,8,9,11]\n",
    "plt.boxplot(num)"
   ]
  },
  {
   "cell_type": "code",
   "execution_count": 27,
   "metadata": {},
   "outputs": [
    {
     "data": {
      "image/png": "[encoded data removed]",
      "text/plain": [
       "<Figure size 432x288 with 1 Axes>"
      ]
     },
     "metadata": {},
     "output_type": "display_data"
    }
   ],
   "source": [
    "normal_examples = np.random.normal(size = 100) # 生成 100 組標準常態分配（平均值為 0，標準差為 1 的常態分配）隨機變數\n",
    "plt.boxplot(normal_examples)\n",
    "plt.show()"
   ]
  },
  {
   "cell_type": "markdown",
   "metadata": {},
   "source": [
    "# 6.圓餅圖"
   ]
  },
  {
   "cell_type": "code",
   "execution_count": 28,
   "metadata": {},
   "outputs": [
    {
     "data": {
      "text/plain": [
       "([<matplotlib.patches.Wedge at 0x1c938793d30>,\n",
       "  <matplotlib.patches.Wedge at 0x1c93879a470>,\n",
       "  <matplotlib.patches.Wedge at 0x1c93879abe0>,\n",
       "  <matplotlib.patches.Wedge at 0x1c9387a63c8>,\n",
       "  <matplotlib.patches.Wedge at 0x1c9387a6b70>],\n",
       " [Text(1.02572,0.397366,'No.1'),\n",
       "  Text(0.101495,1.09531,'No.2'),\n",
       "  Text(-0.81291,0.741065,'No.3'),\n",
       "  Text(-1.02572,0.397366,'No.4'),\n",
       "  Text(-0.101495,-1.09531,'No.5')],\n",
       " [Text(0.559483,0.216745,'11.8%'),\n",
       "  Text(0.055361,0.597441,'23.5%'),\n",
       "  Text(-0.443405,0.404217,'5.9%'),\n",
       "  Text(-0.559483,0.216745,'5.9%'),\n",
       "  Text(-0.055361,-0.597441,'52.9%')])"
      ]
     },
     "execution_count": 28,
     "metadata": {},
     "output_type": "execute_result"
    },
    {
     "data": {
      "image/png": "[encoded data removed]",
      "text/plain": [
       "<Figure size 720x576 with 1 Axes>"
      ]
     },
     "metadata": {},
     "output_type": "display_data"
    }
   ],
   "source": [
    "plt.figure(figsize=(10,8))\n",
    "data = np.random.randint(1, 11, 5) # 生成\n",
    "x = np.arange(len(data))\n",
    "label_tab = ['No.1','No.2','No.3','No.4','No.5']\n",
    "plt.axis('equal')\n",
    "plt.pie(data,labels=label_tab,autopct='%1.1f%%')"
   ]
  },
  {
   "cell_type": "code",
   "execution_count": 29,
   "metadata": {},
   "outputs": [],
   "source": [
    "numbers = np.arange(0,58)"
   ]
  },
  {
   "cell_type": "code",
   "execution_count": 30,
   "metadata": {},
   "outputs": [],
   "source": [
    "years = np.array(range(1960,2018))"
   ]
  },
  {
   "cell_type": "code",
   "execution_count": 31,
   "metadata": {
    "scrolled": true
   },
   "outputs": [
    {
     "data": {
      "image/png": "[encoded data removed]",
      "text/plain": [
       "<Figure size 576x432 with 1 Axes>"
      ]
     },
     "metadata": {},
     "output_type": "display_data"
    }
   ],
   "source": [
    "plt.figure(figsize=(8,6))\n",
    "plt.plot(years, numbers,'o-',label = 'linear2')\n",
    "plt.plot(years, np.random.randn(58)*4+30,'o-',label='random2')\n",
    "plt.xlabel('year')\n",
    "plt.ylabel('Number')\n",
    "plt.title('year vs number')\n",
    "plt.grid()"
   ]
  },
  {
   "cell_type": "code",
   "execution_count": 32,
   "metadata": {},
   "outputs": [
    {
     "data": {
      "text/html": [
       "<div>\n",
       "<style scoped>\n",
       "    .dataframe tbody tr th:only-of-type {\n",
       "        vertical-align: middle;\n",
       "    }\n",
       "\n",
       "    .dataframe tbody tr th {\n",
       "        vertical-align: top;\n",
       "    }\n",
       "\n",
       "    .dataframe thead th {\n",
       "        text-align: right;\n",
       "    }\n",
       "</style>\n",
       "<table border=\"1\" class=\"dataframe\">\n",
       "  <thead>\n",
       "    <tr style=\"text-align: right;\">\n",
       "      <th></th>\n",
       "      <th>Name</th>\n",
       "      <th>1960</th>\n",
       "      <th>1961</th>\n",
       "      <th>1962</th>\n",
       "      <th>1963</th>\n",
       "      <th>1964</th>\n",
       "      <th>1965</th>\n",
       "      <th>1966</th>\n",
       "      <th>1967</th>\n",
       "      <th>1968</th>\n",
       "      <th>...</th>\n",
       "      <th>2008</th>\n",
       "      <th>2009</th>\n",
       "      <th>2010</th>\n",
       "      <th>2011</th>\n",
       "      <th>2012</th>\n",
       "      <th>2013</th>\n",
       "      <th>2014</th>\n",
       "      <th>2015</th>\n",
       "      <th>2016</th>\n",
       "      <th>2017</th>\n",
       "    </tr>\n",
       "  </thead>\n",
       "  <tbody>\n",
       "    <tr>\n",
       "      <th>0</th>\n",
       "      <td>Taiwan</td>\n",
       "      <td>1743</td>\n",
       "      <td>1778</td>\n",
       "      <td>1960</td>\n",
       "      <td>2219</td>\n",
       "      <td>2592</td>\n",
       "      <td>2869</td>\n",
       "      <td>3207</td>\n",
       "      <td>3709</td>\n",
       "      <td>4326</td>\n",
       "      <td>...</td>\n",
       "      <td>416961</td>\n",
       "      <td>392065</td>\n",
       "      <td>446105</td>\n",
       "      <td>485653</td>\n",
       "      <td>495845</td>\n",
       "      <td>511614</td>\n",
       "      <td>530519</td>\n",
       "      <td>525562</td>\n",
       "      <td>530532</td>\n",
       "      <td>572767</td>\n",
       "    </tr>\n",
       "  </tbody>\n",
       "</table>\n",
       "<p>1 rows × 59 columns</p>\n",
       "</div>"
      ],
      "text/plain": [
       "     Name  1960  1961  1962  1963  1964  1965  1966  1967  1968  ...    2008  \\\n",
       "0  Taiwan  1743  1778  1960  2219  2592  2869  3207  3709  4326  ...  416961   \n",
       "\n",
       "     2009    2010    2011    2012    2013    2014    2015    2016    2017  \n",
       "0  392065  446105  485653  495845  511614  530519  525562  530532  572767  \n",
       "\n",
       "[1 rows x 59 columns]"
      ]
     },
     "execution_count": 32,
     "metadata": {},
     "output_type": "execute_result"
    }
   ],
   "source": [
    "import pandas as pd\n",
    "#import csv\n",
    "#本地端資料\n",
    "dir_str = r'C:\\Users\\miguellok\\Dropbox\\財稅二甲_程式設計\\week12\\gdp_taiwan.csv'\n",
    "data = open(dir_str,encoding='cp950')\n",
    "data = pd.read_csv(data)\n",
    "#data = pd.read_csv('gdp_taiwan.csv')\n",
    "# 網路資料\n",
    "data = pd.read_csv('http://drweb.nksh.tp.edu.tw/static/file/gdp_taiwan.csv')\n",
    "#data.head()\n",
    "data"
   ]
  },
  {
   "cell_type": "code",
   "execution_count": 33,
   "metadata": {},
   "outputs": [
    {
     "data": {
      "text/plain": [
       "pandas.core.frame.DataFrame"
      ]
     },
     "execution_count": 33,
     "metadata": {},
     "output_type": "execute_result"
    }
   ],
   "source": [
    "type(data)"
   ]
  },
  {
   "cell_type": "code",
   "execution_count": 34,
   "metadata": {},
   "outputs": [],
   "source": [
    "a = [1,2,3,4]\n",
    "a = np.array(a)"
   ]
  },
  {
   "cell_type": "code",
   "execution_count": 35,
   "metadata": {},
   "outputs": [],
   "source": [
    "dir_str = r'C:\\Users\\miguellok\\Dropbox\\財稅二甲_程式設計\\week12\\gdp_taiwan.csv'\n",
    "data = open(dir_str)\n",
    "data = pd.read_csv(data)"
   ]
  },
  {
   "cell_type": "code",
   "execution_count": 36,
   "metadata": {},
   "outputs": [
    {
     "data": {
      "text/html": [
       "<div>\n",
       "<style scoped>\n",
       "    .dataframe tbody tr th:only-of-type {\n",
       "        vertical-align: middle;\n",
       "    }\n",
       "\n",
       "    .dataframe tbody tr th {\n",
       "        vertical-align: top;\n",
       "    }\n",
       "\n",
       "    .dataframe thead th {\n",
       "        text-align: right;\n",
       "    }\n",
       "</style>\n",
       "<table border=\"1\" class=\"dataframe\">\n",
       "  <thead>\n",
       "    <tr style=\"text-align: right;\">\n",
       "      <th></th>\n",
       "      <th>Name</th>\n",
       "      <th>1960</th>\n",
       "      <th>1961</th>\n",
       "      <th>1962</th>\n",
       "      <th>1963</th>\n",
       "      <th>1964</th>\n",
       "      <th>1965</th>\n",
       "      <th>1966</th>\n",
       "      <th>1967</th>\n",
       "      <th>1968</th>\n",
       "      <th>...</th>\n",
       "      <th>2008</th>\n",
       "      <th>2009</th>\n",
       "      <th>2010</th>\n",
       "      <th>2011</th>\n",
       "      <th>2012</th>\n",
       "      <th>2013</th>\n",
       "      <th>2014</th>\n",
       "      <th>2015</th>\n",
       "      <th>2016</th>\n",
       "      <th>2017</th>\n",
       "    </tr>\n",
       "  </thead>\n",
       "  <tbody>\n",
       "    <tr>\n",
       "      <th>0</th>\n",
       "      <td>Taiwan</td>\n",
       "      <td>1743</td>\n",
       "      <td>1778</td>\n",
       "      <td>1960</td>\n",
       "      <td>2219</td>\n",
       "      <td>2592</td>\n",
       "      <td>2869</td>\n",
       "      <td>3207</td>\n",
       "      <td>3709</td>\n",
       "      <td>4326</td>\n",
       "      <td>...</td>\n",
       "      <td>416961</td>\n",
       "      <td>392065</td>\n",
       "      <td>446105</td>\n",
       "      <td>485653</td>\n",
       "      <td>495845</td>\n",
       "      <td>511614</td>\n",
       "      <td>530519</td>\n",
       "      <td>525562</td>\n",
       "      <td>530532</td>\n",
       "      <td>572767</td>\n",
       "    </tr>\n",
       "  </tbody>\n",
       "</table>\n",
       "<p>1 rows × 59 columns</p>\n",
       "</div>"
      ],
      "text/plain": [
       "     Name  1960  1961  1962  1963  1964  1965  1966  1967  1968  ...    2008  \\\n",
       "0  Taiwan  1743  1778  1960  2219  2592  2869  3207  3709  4326  ...  416961   \n",
       "\n",
       "     2009    2010    2011    2012    2013    2014    2015    2016    2017  \n",
       "0  392065  446105  485653  495845  511614  530519  525562  530532  572767  \n",
       "\n",
       "[1 rows x 59 columns]"
      ]
     },
     "execution_count": 36,
     "metadata": {},
     "output_type": "execute_result"
    }
   ],
   "source": [
    "data"
   ]
  },
  {
   "cell_type": "code",
   "execution_count": 37,
   "metadata": {},
   "outputs": [
    {
     "data": {
      "text/plain": [
       "5"
      ]
     },
     "execution_count": 37,
     "metadata": {},
     "output_type": "execute_result"
    }
   ],
   "source": [
    "dic1 = {'key1':5}\n",
    "dic1['key1']"
   ]
  },
  {
   "cell_type": "code",
   "execution_count": 38,
   "metadata": {},
   "outputs": [
    {
     "data": {
      "text/plain": [
       "0    2219\n",
       "Name: 1963, dtype: int64"
      ]
     },
     "execution_count": 38,
     "metadata": {},
     "output_type": "execute_result"
    }
   ],
   "source": [
    "data['1963']"
   ]
  },
  {
   "cell_type": "code",
   "execution_count": 39,
   "metadata": {},
   "outputs": [
    {
     "data": {
      "text/plain": [
       "1963    2219\n",
       "1964    2592\n",
       "1965    2869\n",
       "Name: 0, dtype: object"
      ]
     },
     "execution_count": 39,
     "metadata": {},
     "output_type": "execute_result"
    }
   ],
   "source": [
    "data.loc[0][['1963','1964','1965']]\n",
    "data.loc[0][4:7]"
   ]
  },
  {
   "cell_type": "code",
   "execution_count": 40,
   "metadata": {},
   "outputs": [],
   "source": [
    "Taiwan_GDP = data.loc[0][1:]\n",
    "years = np.linspace(1960, 2017, 58)"
   ]
  },
  {
   "cell_type": "code",
   "execution_count": 41,
   "metadata": {},
   "outputs": [
    {
     "data": {
      "image/png": "[encoded data removed]",
      "text/plain": [
       "<Figure size 576x432 with 1 Axes>"
      ]
     },
     "metadata": {},
     "output_type": "display_data"
    }
   ],
   "source": [
    "plt.figure(figsize=(8,6))\n",
    "plt.plot(years, Taiwan_GDP,'.-',label='Taiwan')\n",
    "plt.xlabel('year')\n",
    "plt.ylabel('GDP')\n",
    "plt.title('Taiwan GDP')\n",
    "plt.grid()"
   ]
  },
  {
   "cell_type": "code",
   "execution_count": 42,
   "metadata": {},
   "outputs": [],
   "source": [
    "data1 = pd.read_csv('https://www.dropbox.com/s/2yympej5gzp6ygg/gdp_taiwan.csv?dl=1')"
   ]
  },
  {
   "cell_type": "code",
   "execution_count": 43,
   "metadata": {},
   "outputs": [
    {
     "data": {
      "text/html": [
       "<div>\n",
       "<style scoped>\n",
       "    .dataframe tbody tr th:only-of-type {\n",
       "        vertical-align: middle;\n",
       "    }\n",
       "\n",
       "    .dataframe tbody tr th {\n",
       "        vertical-align: top;\n",
       "    }\n",
       "\n",
       "    .dataframe thead th {\n",
       "        text-align: right;\n",
       "    }\n",
       "</style>\n",
       "<table border=\"1\" class=\"dataframe\">\n",
       "  <thead>\n",
       "    <tr style=\"text-align: right;\">\n",
       "      <th></th>\n",
       "      <th>Name</th>\n",
       "      <th>1960</th>\n",
       "      <th>1961</th>\n",
       "      <th>1962</th>\n",
       "      <th>1963</th>\n",
       "      <th>1964</th>\n",
       "      <th>1965</th>\n",
       "      <th>1966</th>\n",
       "      <th>1967</th>\n",
       "      <th>1968</th>\n",
       "      <th>...</th>\n",
       "      <th>2008</th>\n",
       "      <th>2009</th>\n",
       "      <th>2010</th>\n",
       "      <th>2011</th>\n",
       "      <th>2012</th>\n",
       "      <th>2013</th>\n",
       "      <th>2014</th>\n",
       "      <th>2015</th>\n",
       "      <th>2016</th>\n",
       "      <th>2017</th>\n",
       "    </tr>\n",
       "  </thead>\n",
       "  <tbody>\n",
       "    <tr>\n",
       "      <th>0</th>\n",
       "      <td>Taiwan</td>\n",
       "      <td>1743</td>\n",
       "      <td>1778</td>\n",
       "      <td>1960</td>\n",
       "      <td>2219</td>\n",
       "      <td>2592</td>\n",
       "      <td>2869</td>\n",
       "      <td>3207</td>\n",
       "      <td>3709</td>\n",
       "      <td>4326</td>\n",
       "      <td>...</td>\n",
       "      <td>416961</td>\n",
       "      <td>392065</td>\n",
       "      <td>446105</td>\n",
       "      <td>485653</td>\n",
       "      <td>495845</td>\n",
       "      <td>511614</td>\n",
       "      <td>530519</td>\n",
       "      <td>525562</td>\n",
       "      <td>530532</td>\n",
       "      <td>572767</td>\n",
       "    </tr>\n",
       "  </tbody>\n",
       "</table>\n",
       "<p>1 rows × 59 columns</p>\n",
       "</div>"
      ],
      "text/plain": [
       "     Name  1960  1961  1962  1963  1964  1965  1966  1967  1968  ...    2008  \\\n",
       "0  Taiwan  1743  1778  1960  2219  2592  2869  3207  3709  4326  ...  416961   \n",
       "\n",
       "     2009    2010    2011    2012    2013    2014    2015    2016    2017  \n",
       "0  392065  446105  485653  495845  511614  530519  525562  530532  572767  \n",
       "\n",
       "[1 rows x 59 columns]"
      ]
     },
     "execution_count": 43,
     "metadata": {},
     "output_type": "execute_result"
    }
   ],
   "source": [
    "data1"
   ]
  },
  {
   "cell_type": "code",
   "execution_count": 79,
   "metadata": {},
   "outputs": [],
   "source": [
    "data1 = data1.loc[0][1:]"
   ]
  },
  {
   "cell_type": "code",
   "execution_count": 80,
   "metadata": {
    "scrolled": true
   },
   "outputs": [
    {
     "data": {
      "text/plain": [
       "1960      1743\n",
       "1961      1778\n",
       "1962      1960\n",
       "1963      2219\n",
       "1964      2592\n",
       "1965      2869\n",
       "1966      3207\n",
       "1967      3709\n",
       "1968      4326\n",
       "1969      5018\n",
       "1970      5786\n",
       "1971      6728\n",
       "1972      8063\n",
       "1973     10941\n",
       "1974     14740\n",
       "1975     15838\n",
       "1976     18989\n",
       "1977     22254\n",
       "1978     27375\n",
       "1979     33878\n",
       "1980     42295\n",
       "1981     49063\n",
       "1982     49550\n",
       "1983     54169\n",
       "1984     61052\n",
       "1985     63623\n",
       "1986     78386\n",
       "1987    104956\n",
       "1988    126366\n",
       "1989    152710\n",
       "1990    166615\n",
       "1991    187314\n",
       "1992    223159\n",
       "1993    235140\n",
       "1994    256404\n",
       "1995    279224\n",
       "1996    292665\n",
       "1997    303737\n",
       "1998    280369\n",
       "1999    304171\n",
       "2000    331452\n",
       "2001    300450\n",
       "2002    308875\n",
       "2003    318590\n",
       "2004    348479\n",
       "2005    375769\n",
       "2006    388589\n",
       "2007    408254\n",
       "2008    416961\n",
       "2009    392065\n",
       "2010    446105\n",
       "2011    485653\n",
       "2012    495845\n",
       "2013    511614\n",
       "2014    530519\n",
       "2015    525562\n",
       "2016    530532\n",
       "2017    572767\n",
       "Name: 0, dtype: object"
      ]
     },
     "execution_count": 80,
     "metadata": {},
     "output_type": "execute_result"
    }
   ],
   "source": [
    "data1"
   ]
  },
  {
   "cell_type": "code",
   "execution_count": 88,
   "metadata": {},
   "outputs": [
    {
     "data": {
      "image/png": "[encoded data removed]",
      "text/plain": [
       "<Figure size 1368x576 with 1 Axes>"
      ]
     },
     "metadata": {},
     "output_type": "display_data"
    }
   ],
   "source": [
    "plt.figure(figsize=(19,8))\n",
    "plt.plot(data1,'o-')\n",
    "plt.xticks(rotation=90)\n",
    "plt.grid()"
   ]
  },
  {
   "cell_type": "code",
   "execution_count": 47,
   "metadata": {},
   "outputs": [],
   "source": [
    "data2 = pd.read_csv('http://drweb.nksh.tp.edu.tw/static/file/gdp_world.csv')"
   ]
  },
  {
   "cell_type": "code",
   "execution_count": 48,
   "metadata": {},
   "outputs": [
    {
     "data": {
      "text/html": [
       "<div>\n",
       "<style scoped>\n",
       "    .dataframe tbody tr th:only-of-type {\n",
       "        vertical-align: middle;\n",
       "    }\n",
       "\n",
       "    .dataframe tbody tr th {\n",
       "        vertical-align: top;\n",
       "    }\n",
       "\n",
       "    .dataframe thead th {\n",
       "        text-align: right;\n",
       "    }\n",
       "</style>\n",
       "<table border=\"1\" class=\"dataframe\">\n",
       "  <thead>\n",
       "    <tr style=\"text-align: right;\">\n",
       "      <th></th>\n",
       "      <th>Country Name</th>\n",
       "      <th>1960</th>\n",
       "      <th>1961</th>\n",
       "      <th>1962</th>\n",
       "      <th>1963</th>\n",
       "      <th>1964</th>\n",
       "      <th>1965</th>\n",
       "      <th>1966</th>\n",
       "      <th>1967</th>\n",
       "      <th>1968</th>\n",
       "      <th>...</th>\n",
       "      <th>2008</th>\n",
       "      <th>2009</th>\n",
       "      <th>2010</th>\n",
       "      <th>2011</th>\n",
       "      <th>2012</th>\n",
       "      <th>2013</th>\n",
       "      <th>2014</th>\n",
       "      <th>2015</th>\n",
       "      <th>2016</th>\n",
       "      <th>2017</th>\n",
       "    </tr>\n",
       "  </thead>\n",
       "  <tbody>\n",
       "    <tr>\n",
       "      <th>254</th>\n",
       "      <td>Virgin Islands (U.S.)</td>\n",
       "      <td>2.420000e+07</td>\n",
       "      <td>2.570000e+07</td>\n",
       "      <td>3.690000e+07</td>\n",
       "      <td>4.140000e+07</td>\n",
       "      <td>5.380000e+07</td>\n",
       "      <td>6.650000e+07</td>\n",
       "      <td>8.410000e+07</td>\n",
       "      <td>1.154000e+08</td>\n",
       "      <td>1.738000e+08</td>\n",
       "      <td>...</td>\n",
       "      <td>4.250000e+09</td>\n",
       "      <td>4.203000e+09</td>\n",
       "      <td>4.339000e+09</td>\n",
       "      <td>4.239000e+09</td>\n",
       "      <td>4.095000e+09</td>\n",
       "      <td>3.764000e+09</td>\n",
       "      <td>3.624000e+09</td>\n",
       "      <td>3.765000e+09</td>\n",
       "      <td>NaN</td>\n",
       "      <td>NaN</td>\n",
       "    </tr>\n",
       "    <tr>\n",
       "      <th>255</th>\n",
       "      <td>Vietnam</td>\n",
       "      <td>NaN</td>\n",
       "      <td>NaN</td>\n",
       "      <td>NaN</td>\n",
       "      <td>NaN</td>\n",
       "      <td>NaN</td>\n",
       "      <td>NaN</td>\n",
       "      <td>NaN</td>\n",
       "      <td>NaN</td>\n",
       "      <td>NaN</td>\n",
       "      <td>...</td>\n",
       "      <td>9.913030e+10</td>\n",
       "      <td>1.060000e+11</td>\n",
       "      <td>1.160000e+11</td>\n",
       "      <td>1.360000e+11</td>\n",
       "      <td>1.560000e+11</td>\n",
       "      <td>1.710000e+11</td>\n",
       "      <td>1.860000e+11</td>\n",
       "      <td>1.930000e+11</td>\n",
       "      <td>2.050000e+11</td>\n",
       "      <td>2.240000e+11</td>\n",
       "    </tr>\n",
       "    <tr>\n",
       "      <th>256</th>\n",
       "      <td>Vanuatu</td>\n",
       "      <td>NaN</td>\n",
       "      <td>NaN</td>\n",
       "      <td>NaN</td>\n",
       "      <td>NaN</td>\n",
       "      <td>NaN</td>\n",
       "      <td>NaN</td>\n",
       "      <td>NaN</td>\n",
       "      <td>NaN</td>\n",
       "      <td>NaN</td>\n",
       "      <td>...</td>\n",
       "      <td>6.079586e+08</td>\n",
       "      <td>6.100666e+08</td>\n",
       "      <td>7.008043e+08</td>\n",
       "      <td>7.921497e+08</td>\n",
       "      <td>7.817029e+08</td>\n",
       "      <td>8.017876e+08</td>\n",
       "      <td>8.149543e+08</td>\n",
       "      <td>7.379172e+08</td>\n",
       "      <td>7.879426e+08</td>\n",
       "      <td>8.628798e+08</td>\n",
       "    </tr>\n",
       "    <tr>\n",
       "      <th>257</th>\n",
       "      <td>World</td>\n",
       "      <td>1.370000e+12</td>\n",
       "      <td>1.420000e+12</td>\n",
       "      <td>1.530000e+12</td>\n",
       "      <td>1.640000e+12</td>\n",
       "      <td>1.800000e+12</td>\n",
       "      <td>1.960000e+12</td>\n",
       "      <td>2.130000e+12</td>\n",
       "      <td>2.260000e+12</td>\n",
       "      <td>2.440000e+12</td>\n",
       "      <td>...</td>\n",
       "      <td>6.340000e+13</td>\n",
       "      <td>6.010000e+13</td>\n",
       "      <td>6.600000e+13</td>\n",
       "      <td>7.330000e+13</td>\n",
       "      <td>7.500000e+13</td>\n",
       "      <td>7.710000e+13</td>\n",
       "      <td>7.910000e+13</td>\n",
       "      <td>7.480000e+13</td>\n",
       "      <td>7.590000e+13</td>\n",
       "      <td>8.070000e+13</td>\n",
       "    </tr>\n",
       "    <tr>\n",
       "      <th>258</th>\n",
       "      <td>Samoa</td>\n",
       "      <td>NaN</td>\n",
       "      <td>NaN</td>\n",
       "      <td>NaN</td>\n",
       "      <td>NaN</td>\n",
       "      <td>NaN</td>\n",
       "      <td>NaN</td>\n",
       "      <td>NaN</td>\n",
       "      <td>NaN</td>\n",
       "      <td>NaN</td>\n",
       "      <td>...</td>\n",
       "      <td>6.441325e+08</td>\n",
       "      <td>5.609595e+08</td>\n",
       "      <td>6.430467e+08</td>\n",
       "      <td>7.397851e+08</td>\n",
       "      <td>8.011686e+08</td>\n",
       "      <td>8.048085e+08</td>\n",
       "      <td>8.035895e+08</td>\n",
       "      <td>8.039858e+08</td>\n",
       "      <td>7.863563e+08</td>\n",
       "      <td>8.566265e+08</td>\n",
       "    </tr>\n",
       "    <tr>\n",
       "      <th>259</th>\n",
       "      <td>Kosovo</td>\n",
       "      <td>NaN</td>\n",
       "      <td>NaN</td>\n",
       "      <td>NaN</td>\n",
       "      <td>NaN</td>\n",
       "      <td>NaN</td>\n",
       "      <td>NaN</td>\n",
       "      <td>NaN</td>\n",
       "      <td>NaN</td>\n",
       "      <td>NaN</td>\n",
       "      <td>...</td>\n",
       "      <td>5.687488e+09</td>\n",
       "      <td>5.653793e+09</td>\n",
       "      <td>5.829934e+09</td>\n",
       "      <td>6.686683e+09</td>\n",
       "      <td>6.500193e+09</td>\n",
       "      <td>7.073420e+09</td>\n",
       "      <td>7.386891e+09</td>\n",
       "      <td>6.439947e+09</td>\n",
       "      <td>6.715487e+09</td>\n",
       "      <td>7.128691e+09</td>\n",
       "    </tr>\n",
       "    <tr>\n",
       "      <th>260</th>\n",
       "      <td>Yemen, Rep.</td>\n",
       "      <td>NaN</td>\n",
       "      <td>NaN</td>\n",
       "      <td>NaN</td>\n",
       "      <td>NaN</td>\n",
       "      <td>NaN</td>\n",
       "      <td>NaN</td>\n",
       "      <td>NaN</td>\n",
       "      <td>NaN</td>\n",
       "      <td>NaN</td>\n",
       "      <td>...</td>\n",
       "      <td>2.691085e+10</td>\n",
       "      <td>2.513027e+10</td>\n",
       "      <td>3.090675e+10</td>\n",
       "      <td>3.272642e+10</td>\n",
       "      <td>3.540133e+10</td>\n",
       "      <td>4.041524e+10</td>\n",
       "      <td>4.322858e+10</td>\n",
       "      <td>3.460248e+10</td>\n",
       "      <td>1.821333e+10</td>\n",
       "      <td>NaN</td>\n",
       "    </tr>\n",
       "    <tr>\n",
       "      <th>261</th>\n",
       "      <td>South Africa</td>\n",
       "      <td>7.575248e+09</td>\n",
       "      <td>7.972841e+09</td>\n",
       "      <td>8.497830e+09</td>\n",
       "      <td>9.423212e+09</td>\n",
       "      <td>1.037379e+10</td>\n",
       "      <td>1.133417e+10</td>\n",
       "      <td>1.235475e+10</td>\n",
       "      <td>1.377712e+10</td>\n",
       "      <td>1.489430e+10</td>\n",
       "      <td>...</td>\n",
       "      <td>2.870000e+11</td>\n",
       "      <td>2.970000e+11</td>\n",
       "      <td>3.750000e+11</td>\n",
       "      <td>4.170000e+11</td>\n",
       "      <td>3.960000e+11</td>\n",
       "      <td>3.670000e+11</td>\n",
       "      <td>3.510000e+11</td>\n",
       "      <td>3.180000e+11</td>\n",
       "      <td>2.960000e+11</td>\n",
       "      <td>3.490000e+11</td>\n",
       "    </tr>\n",
       "    <tr>\n",
       "      <th>262</th>\n",
       "      <td>Zambia</td>\n",
       "      <td>7.130000e+08</td>\n",
       "      <td>6.962857e+08</td>\n",
       "      <td>6.931429e+08</td>\n",
       "      <td>7.187143e+08</td>\n",
       "      <td>8.394286e+08</td>\n",
       "      <td>1.082857e+09</td>\n",
       "      <td>1.264286e+09</td>\n",
       "      <td>1.368000e+09</td>\n",
       "      <td>1.605857e+09</td>\n",
       "      <td>...</td>\n",
       "      <td>1.791086e+10</td>\n",
       "      <td>1.532834e+10</td>\n",
       "      <td>2.026556e+10</td>\n",
       "      <td>2.346010e+10</td>\n",
       "      <td>2.550337e+10</td>\n",
       "      <td>2.804546e+10</td>\n",
       "      <td>2.715063e+10</td>\n",
       "      <td>2.115439e+10</td>\n",
       "      <td>2.095475e+10</td>\n",
       "      <td>2.580867e+10</td>\n",
       "    </tr>\n",
       "    <tr>\n",
       "      <th>263</th>\n",
       "      <td>Zimbabwe</td>\n",
       "      <td>1.052990e+09</td>\n",
       "      <td>1.096647e+09</td>\n",
       "      <td>1.117602e+09</td>\n",
       "      <td>1.159512e+09</td>\n",
       "      <td>1.217138e+09</td>\n",
       "      <td>1.311436e+09</td>\n",
       "      <td>1.281750e+09</td>\n",
       "      <td>1.397002e+09</td>\n",
       "      <td>1.479600e+09</td>\n",
       "      <td>...</td>\n",
       "      <td>4.415703e+09</td>\n",
       "      <td>8.621574e+09</td>\n",
       "      <td>1.014186e+10</td>\n",
       "      <td>1.209845e+10</td>\n",
       "      <td>1.424249e+10</td>\n",
       "      <td>1.545177e+10</td>\n",
       "      <td>1.589105e+10</td>\n",
       "      <td>1.630467e+10</td>\n",
       "      <td>1.661996e+10</td>\n",
       "      <td>1.784582e+10</td>\n",
       "    </tr>\n",
       "  </tbody>\n",
       "</table>\n",
       "<p>10 rows × 59 columns</p>\n",
       "</div>"
      ],
      "text/plain": [
       "              Country Name          1960          1961          1962  \\\n",
       "254  Virgin Islands (U.S.)  2.420000e+07  2.570000e+07  3.690000e+07   \n",
       "255                Vietnam           NaN           NaN           NaN   \n",
       "256                Vanuatu           NaN           NaN           NaN   \n",
       "257                  World  1.370000e+12  1.420000e+12  1.530000e+12   \n",
       "258                  Samoa           NaN           NaN           NaN   \n",
       "259                 Kosovo           NaN           NaN           NaN   \n",
       "260            Yemen, Rep.           NaN           NaN           NaN   \n",
       "261           South Africa  7.575248e+09  7.972841e+09  8.497830e+09   \n",
       "262                 Zambia  7.130000e+08  6.962857e+08  6.931429e+08   \n",
       "263               Zimbabwe  1.052990e+09  1.096647e+09  1.117602e+09   \n",
       "\n",
       "             1963          1964          1965          1966          1967  \\\n",
       "254  4.140000e+07  5.380000e+07  6.650000e+07  8.410000e+07  1.154000e+08   \n",
       "255           NaN           NaN           NaN           NaN           NaN   \n",
       "256           NaN           NaN           NaN           NaN           NaN   \n",
       "257  1.640000e+12  1.800000e+12  1.960000e+12  2.130000e+12  2.260000e+12   \n",
       "258           NaN           NaN           NaN           NaN           NaN   \n",
       "259           NaN           NaN           NaN           NaN           NaN   \n",
       "260           NaN           NaN           NaN           NaN           NaN   \n",
       "261  9.423212e+09  1.037379e+10  1.133417e+10  1.235475e+10  1.377712e+10   \n",
       "262  7.187143e+08  8.394286e+08  1.082857e+09  1.264286e+09  1.368000e+09   \n",
       "263  1.159512e+09  1.217138e+09  1.311436e+09  1.281750e+09  1.397002e+09   \n",
       "\n",
       "             1968  ...          2008          2009          2010  \\\n",
       "254  1.738000e+08  ...  4.250000e+09  4.203000e+09  4.339000e+09   \n",
       "255           NaN  ...  9.913030e+10  1.060000e+11  1.160000e+11   \n",
       "256           NaN  ...  6.079586e+08  6.100666e+08  7.008043e+08   \n",
       "257  2.440000e+12  ...  6.340000e+13  6.010000e+13  6.600000e+13   \n",
       "258           NaN  ...  6.441325e+08  5.609595e+08  6.430467e+08   \n",
       "259           NaN  ...  5.687488e+09  5.653793e+09  5.829934e+09   \n",
       "260           NaN  ...  2.691085e+10  2.513027e+10  3.090675e+10   \n",
       "261  1.489430e+10  ...  2.870000e+11  2.970000e+11  3.750000e+11   \n",
       "262  1.605857e+09  ...  1.791086e+10  1.532834e+10  2.026556e+10   \n",
       "263  1.479600e+09  ...  4.415703e+09  8.621574e+09  1.014186e+10   \n",
       "\n",
       "             2011          2012          2013          2014          2015  \\\n",
       "254  4.239000e+09  4.095000e+09  3.764000e+09  3.624000e+09  3.765000e+09   \n",
       "255  1.360000e+11  1.560000e+11  1.710000e+11  1.860000e+11  1.930000e+11   \n",
       "256  7.921497e+08  7.817029e+08  8.017876e+08  8.149543e+08  7.379172e+08   \n",
       "257  7.330000e+13  7.500000e+13  7.710000e+13  7.910000e+13  7.480000e+13   \n",
       "258  7.397851e+08  8.011686e+08  8.048085e+08  8.035895e+08  8.039858e+08   \n",
       "259  6.686683e+09  6.500193e+09  7.073420e+09  7.386891e+09  6.439947e+09   \n",
       "260  3.272642e+10  3.540133e+10  4.041524e+10  4.322858e+10  3.460248e+10   \n",
       "261  4.170000e+11  3.960000e+11  3.670000e+11  3.510000e+11  3.180000e+11   \n",
       "262  2.346010e+10  2.550337e+10  2.804546e+10  2.715063e+10  2.115439e+10   \n",
       "263  1.209845e+10  1.424249e+10  1.545177e+10  1.589105e+10  1.630467e+10   \n",
       "\n",
       "             2016          2017  \n",
       "254           NaN           NaN  \n",
       "255  2.050000e+11  2.240000e+11  \n",
       "256  7.879426e+08  8.628798e+08  \n",
       "257  7.590000e+13  8.070000e+13  \n",
       "258  7.863563e+08  8.566265e+08  \n",
       "259  6.715487e+09  7.128691e+09  \n",
       "260  1.821333e+10           NaN  \n",
       "261  2.960000e+11  3.490000e+11  \n",
       "262  2.095475e+10  2.580867e+10  \n",
       "263  1.661996e+10  1.784582e+10  \n",
       "\n",
       "[10 rows x 59 columns]"
      ]
     },
     "execution_count": 48,
     "metadata": {},
     "output_type": "execute_result"
    }
   ],
   "source": [
    "data2.tail(10)"
   ]
  },
  {
   "cell_type": "code",
   "execution_count": 49,
   "metadata": {
    "scrolled": true
   },
   "outputs": [],
   "source": [
    "data3 = data2.loc[[117]]"
   ]
  },
  {
   "cell_type": "code",
   "execution_count": 50,
   "metadata": {
    "scrolled": true
   },
   "outputs": [
    {
     "data": {
      "text/plain": [
       "pandas.core.frame.DataFrame"
      ]
     },
     "execution_count": 50,
     "metadata": {},
     "output_type": "execute_result"
    }
   ],
   "source": [
    "type(data3)"
   ]
  },
  {
   "cell_type": "code",
   "execution_count": 51,
   "metadata": {
    "scrolled": true
   },
   "outputs": [
    {
     "data": {
      "text/html": [
       "<div>\n",
       "<style scoped>\n",
       "    .dataframe tbody tr th:only-of-type {\n",
       "        vertical-align: middle;\n",
       "    }\n",
       "\n",
       "    .dataframe tbody tr th {\n",
       "        vertical-align: top;\n",
       "    }\n",
       "\n",
       "    .dataframe thead th {\n",
       "        text-align: right;\n",
       "    }\n",
       "</style>\n",
       "<table border=\"1\" class=\"dataframe\">\n",
       "  <thead>\n",
       "    <tr style=\"text-align: right;\">\n",
       "      <th></th>\n",
       "      <th>Country Name</th>\n",
       "      <th>1960</th>\n",
       "      <th>1961</th>\n",
       "      <th>1962</th>\n",
       "      <th>1963</th>\n",
       "      <th>1964</th>\n",
       "      <th>1965</th>\n",
       "      <th>1966</th>\n",
       "      <th>1967</th>\n",
       "      <th>1968</th>\n",
       "      <th>...</th>\n",
       "      <th>2008</th>\n",
       "      <th>2009</th>\n",
       "      <th>2010</th>\n",
       "      <th>2011</th>\n",
       "      <th>2012</th>\n",
       "      <th>2013</th>\n",
       "      <th>2014</th>\n",
       "      <th>2015</th>\n",
       "      <th>2016</th>\n",
       "      <th>2017</th>\n",
       "    </tr>\n",
       "  </thead>\n",
       "  <tbody>\n",
       "    <tr>\n",
       "      <th>117</th>\n",
       "      <td>Japan</td>\n",
       "      <td>4.430734e+10</td>\n",
       "      <td>5.350862e+10</td>\n",
       "      <td>6.072302e+10</td>\n",
       "      <td>6.949813e+10</td>\n",
       "      <td>8.174901e+10</td>\n",
       "      <td>9.095028e+10</td>\n",
       "      <td>1.060000e+11</td>\n",
       "      <td>1.240000e+11</td>\n",
       "      <td>1.470000e+11</td>\n",
       "      <td>...</td>\n",
       "      <td>5.040000e+12</td>\n",
       "      <td>5.230000e+12</td>\n",
       "      <td>5.700000e+12</td>\n",
       "      <td>6.160000e+12</td>\n",
       "      <td>6.200000e+12</td>\n",
       "      <td>5.160000e+12</td>\n",
       "      <td>4.850000e+12</td>\n",
       "      <td>4.390000e+12</td>\n",
       "      <td>4.950000e+12</td>\n",
       "      <td>4.870000e+12</td>\n",
       "    </tr>\n",
       "  </tbody>\n",
       "</table>\n",
       "<p>1 rows × 59 columns</p>\n",
       "</div>"
      ],
      "text/plain": [
       "    Country Name          1960          1961          1962          1963  \\\n",
       "117        Japan  4.430734e+10  5.350862e+10  6.072302e+10  6.949813e+10   \n",
       "\n",
       "             1964          1965          1966          1967          1968  \\\n",
       "117  8.174901e+10  9.095028e+10  1.060000e+11  1.240000e+11  1.470000e+11   \n",
       "\n",
       "     ...          2008          2009          2010          2011  \\\n",
       "117  ...  5.040000e+12  5.230000e+12  5.700000e+12  6.160000e+12   \n",
       "\n",
       "             2012          2013          2014          2015          2016  \\\n",
       "117  6.200000e+12  5.160000e+12  4.850000e+12  4.390000e+12  4.950000e+12   \n",
       "\n",
       "             2017  \n",
       "117  4.870000e+12  \n",
       "\n",
       "[1 rows x 59 columns]"
      ]
     },
     "execution_count": 51,
     "metadata": {},
     "output_type": "execute_result"
    }
   ],
   "source": [
    "data3"
   ]
  },
  {
   "cell_type": "code",
   "execution_count": 52,
   "metadata": {},
   "outputs": [],
   "source": [
    "data2_2 = data2.loc[[117]]"
   ]
  },
  {
   "cell_type": "code",
   "execution_count": 53,
   "metadata": {},
   "outputs": [
    {
     "data": {
      "text/html": [
       "<div>\n",
       "<style scoped>\n",
       "    .dataframe tbody tr th:only-of-type {\n",
       "        vertical-align: middle;\n",
       "    }\n",
       "\n",
       "    .dataframe tbody tr th {\n",
       "        vertical-align: top;\n",
       "    }\n",
       "\n",
       "    .dataframe thead th {\n",
       "        text-align: right;\n",
       "    }\n",
       "</style>\n",
       "<table border=\"1\" class=\"dataframe\">\n",
       "  <thead>\n",
       "    <tr style=\"text-align: right;\">\n",
       "      <th></th>\n",
       "      <th>Country Name</th>\n",
       "      <th>1960</th>\n",
       "      <th>1961</th>\n",
       "      <th>1962</th>\n",
       "      <th>1963</th>\n",
       "      <th>1964</th>\n",
       "      <th>1965</th>\n",
       "      <th>1966</th>\n",
       "      <th>1967</th>\n",
       "      <th>1968</th>\n",
       "      <th>...</th>\n",
       "      <th>2008</th>\n",
       "      <th>2009</th>\n",
       "      <th>2010</th>\n",
       "      <th>2011</th>\n",
       "      <th>2012</th>\n",
       "      <th>2013</th>\n",
       "      <th>2014</th>\n",
       "      <th>2015</th>\n",
       "      <th>2016</th>\n",
       "      <th>2017</th>\n",
       "    </tr>\n",
       "  </thead>\n",
       "  <tbody>\n",
       "    <tr>\n",
       "      <th>117</th>\n",
       "      <td>Japan</td>\n",
       "      <td>4.430734e+10</td>\n",
       "      <td>5.350862e+10</td>\n",
       "      <td>6.072302e+10</td>\n",
       "      <td>6.949813e+10</td>\n",
       "      <td>8.174901e+10</td>\n",
       "      <td>9.095028e+10</td>\n",
       "      <td>1.060000e+11</td>\n",
       "      <td>1.240000e+11</td>\n",
       "      <td>1.470000e+11</td>\n",
       "      <td>...</td>\n",
       "      <td>5.040000e+12</td>\n",
       "      <td>5.230000e+12</td>\n",
       "      <td>5.700000e+12</td>\n",
       "      <td>6.160000e+12</td>\n",
       "      <td>6.200000e+12</td>\n",
       "      <td>5.160000e+12</td>\n",
       "      <td>4.850000e+12</td>\n",
       "      <td>4.390000e+12</td>\n",
       "      <td>4.950000e+12</td>\n",
       "      <td>4.870000e+12</td>\n",
       "    </tr>\n",
       "  </tbody>\n",
       "</table>\n",
       "<p>1 rows × 59 columns</p>\n",
       "</div>"
      ],
      "text/plain": [
       "    Country Name          1960          1961          1962          1963  \\\n",
       "117        Japan  4.430734e+10  5.350862e+10  6.072302e+10  6.949813e+10   \n",
       "\n",
       "             1964          1965          1966          1967          1968  \\\n",
       "117  8.174901e+10  9.095028e+10  1.060000e+11  1.240000e+11  1.470000e+11   \n",
       "\n",
       "     ...          2008          2009          2010          2011  \\\n",
       "117  ...  5.040000e+12  5.230000e+12  5.700000e+12  6.160000e+12   \n",
       "\n",
       "             2012          2013          2014          2015          2016  \\\n",
       "117  6.200000e+12  5.160000e+12  4.850000e+12  4.390000e+12  4.950000e+12   \n",
       "\n",
       "             2017  \n",
       "117  4.870000e+12  \n",
       "\n",
       "[1 rows x 59 columns]"
      ]
     },
     "execution_count": 53,
     "metadata": {},
     "output_type": "execute_result"
    }
   ],
   "source": [
    "data2_2"
   ]
  },
  {
   "cell_type": "code",
   "execution_count": 54,
   "metadata": {
    "scrolled": true
   },
   "outputs": [
    {
     "data": {
      "text/html": [
       "<div>\n",
       "<style scoped>\n",
       "    .dataframe tbody tr th:only-of-type {\n",
       "        vertical-align: middle;\n",
       "    }\n",
       "\n",
       "    .dataframe tbody tr th {\n",
       "        vertical-align: top;\n",
       "    }\n",
       "\n",
       "    .dataframe thead th {\n",
       "        text-align: right;\n",
       "    }\n",
       "</style>\n",
       "<table border=\"1\" class=\"dataframe\">\n",
       "  <thead>\n",
       "    <tr style=\"text-align: right;\">\n",
       "      <th></th>\n",
       "      <th>1960</th>\n",
       "      <th>1961</th>\n",
       "      <th>1962</th>\n",
       "      <th>1963</th>\n",
       "      <th>1964</th>\n",
       "      <th>1965</th>\n",
       "      <th>1966</th>\n",
       "      <th>1967</th>\n",
       "      <th>1968</th>\n",
       "      <th>1969</th>\n",
       "      <th>...</th>\n",
       "      <th>2008</th>\n",
       "      <th>2009</th>\n",
       "      <th>2010</th>\n",
       "      <th>2011</th>\n",
       "      <th>2012</th>\n",
       "      <th>2013</th>\n",
       "      <th>2014</th>\n",
       "      <th>2015</th>\n",
       "      <th>2016</th>\n",
       "      <th>2017</th>\n",
       "    </tr>\n",
       "  </thead>\n",
       "  <tbody>\n",
       "    <tr>\n",
       "      <th>117</th>\n",
       "      <td>4.430734e+10</td>\n",
       "      <td>5.350862e+10</td>\n",
       "      <td>6.072302e+10</td>\n",
       "      <td>6.949813e+10</td>\n",
       "      <td>8.174901e+10</td>\n",
       "      <td>9.095028e+10</td>\n",
       "      <td>1.060000e+11</td>\n",
       "      <td>1.240000e+11</td>\n",
       "      <td>1.470000e+11</td>\n",
       "      <td>1.720000e+11</td>\n",
       "      <td>...</td>\n",
       "      <td>5.040000e+12</td>\n",
       "      <td>5.230000e+12</td>\n",
       "      <td>5.700000e+12</td>\n",
       "      <td>6.160000e+12</td>\n",
       "      <td>6.200000e+12</td>\n",
       "      <td>5.160000e+12</td>\n",
       "      <td>4.850000e+12</td>\n",
       "      <td>4.390000e+12</td>\n",
       "      <td>4.950000e+12</td>\n",
       "      <td>4.870000e+12</td>\n",
       "    </tr>\n",
       "  </tbody>\n",
       "</table>\n",
       "<p>1 rows × 58 columns</p>\n",
       "</div>"
      ],
      "text/plain": [
       "             1960          1961          1962          1963          1964  \\\n",
       "117  4.430734e+10  5.350862e+10  6.072302e+10  6.949813e+10  8.174901e+10   \n",
       "\n",
       "             1965          1966          1967          1968          1969  \\\n",
       "117  9.095028e+10  1.060000e+11  1.240000e+11  1.470000e+11  1.720000e+11   \n",
       "\n",
       "     ...          2008          2009          2010          2011  \\\n",
       "117  ...  5.040000e+12  5.230000e+12  5.700000e+12  6.160000e+12   \n",
       "\n",
       "             2012          2013          2014          2015          2016  \\\n",
       "117  6.200000e+12  5.160000e+12  4.850000e+12  4.390000e+12  4.950000e+12   \n",
       "\n",
       "             2017  \n",
       "117  4.870000e+12  \n",
       "\n",
       "[1 rows x 58 columns]"
      ]
     },
     "execution_count": 54,
     "metadata": {},
     "output_type": "execute_result"
    }
   ],
   "source": [
    "data2_2.iloc[:,1:]"
   ]
  },
  {
   "cell_type": "code",
   "execution_count": 55,
   "metadata": {
    "scrolled": true
   },
   "outputs": [],
   "source": [
    "data3 = data3.loc[117,'1960':]"
   ]
  },
  {
   "cell_type": "code",
   "execution_count": 56,
   "metadata": {
    "scrolled": true
   },
   "outputs": [
    {
     "data": {
      "text/plain": [
       "1960    4.43073e+10\n",
       "1961    5.35086e+10\n",
       "1962     6.0723e+10\n",
       "1963    6.94981e+10\n",
       "1964     8.1749e+10\n",
       "1965    9.09503e+10\n",
       "1966       1.06e+11\n",
       "1967       1.24e+11\n",
       "1968       1.47e+11\n",
       "1969       1.72e+11\n",
       "1970       2.13e+11\n",
       "1971        2.4e+11\n",
       "1972       3.18e+11\n",
       "1973       4.32e+11\n",
       "1974        4.8e+11\n",
       "1975       5.22e+11\n",
       "1976       5.86e+11\n",
       "1977       7.21e+11\n",
       "1978       1.01e+12\n",
       "1979       1.06e+12\n",
       "1980       1.11e+12\n",
       "1981       1.22e+12\n",
       "1982       1.13e+12\n",
       "1983       1.24e+12\n",
       "1984       1.32e+12\n",
       "1985        1.4e+12\n",
       "1986       2.08e+12\n",
       "1987       2.53e+12\n",
       "1988       3.07e+12\n",
       "1989       3.05e+12\n",
       "1990       3.13e+12\n",
       "1991       3.58e+12\n",
       "1992       3.91e+12\n",
       "1993       4.45e+12\n",
       "1994       4.91e+12\n",
       "1995       5.45e+12\n",
       "1996       4.83e+12\n",
       "1997       4.41e+12\n",
       "1998       4.03e+12\n",
       "1999       4.56e+12\n",
       "2000       4.89e+12\n",
       "2001        4.3e+12\n",
       "2002       4.12e+12\n",
       "2003       4.45e+12\n",
       "2004       4.82e+12\n",
       "2005       4.76e+12\n",
       "2006       4.53e+12\n",
       "2007       4.52e+12\n",
       "2008       5.04e+12\n",
       "2009       5.23e+12\n",
       "2010        5.7e+12\n",
       "2011       6.16e+12\n",
       "2012        6.2e+12\n",
       "2013       5.16e+12\n",
       "2014       4.85e+12\n",
       "2015       4.39e+12\n",
       "2016       4.95e+12\n",
       "2017       4.87e+12\n",
       "Name: 117, dtype: object"
      ]
     },
     "execution_count": 56,
     "metadata": {},
     "output_type": "execute_result"
    }
   ],
   "source": [
    "data3"
   ]
  },
  {
   "cell_type": "code",
   "execution_count": 57,
   "metadata": {
    "scrolled": true
   },
   "outputs": [
    {
     "data": {
      "text/html": [
       "<div>\n",
       "<style scoped>\n",
       "    .dataframe tbody tr th:only-of-type {\n",
       "        vertical-align: middle;\n",
       "    }\n",
       "\n",
       "    .dataframe tbody tr th {\n",
       "        vertical-align: top;\n",
       "    }\n",
       "\n",
       "    .dataframe thead th {\n",
       "        text-align: right;\n",
       "    }\n",
       "</style>\n",
       "<table border=\"1\" class=\"dataframe\">\n",
       "  <thead>\n",
       "    <tr style=\"text-align: right;\">\n",
       "      <th></th>\n",
       "      <th>Country Name</th>\n",
       "      <th>1960</th>\n",
       "      <th>1961</th>\n",
       "      <th>1962</th>\n",
       "      <th>1963</th>\n",
       "      <th>1964</th>\n",
       "      <th>1965</th>\n",
       "      <th>1966</th>\n",
       "      <th>1967</th>\n",
       "      <th>1968</th>\n",
       "      <th>...</th>\n",
       "      <th>2008</th>\n",
       "      <th>2009</th>\n",
       "      <th>2010</th>\n",
       "      <th>2011</th>\n",
       "      <th>2012</th>\n",
       "      <th>2013</th>\n",
       "      <th>2014</th>\n",
       "      <th>2015</th>\n",
       "      <th>2016</th>\n",
       "      <th>2017</th>\n",
       "    </tr>\n",
       "  </thead>\n",
       "  <tbody>\n",
       "    <tr>\n",
       "      <th>117</th>\n",
       "      <td>Japan</td>\n",
       "      <td>4.430734e+10</td>\n",
       "      <td>5.350862e+10</td>\n",
       "      <td>6.072302e+10</td>\n",
       "      <td>6.949813e+10</td>\n",
       "      <td>8.174901e+10</td>\n",
       "      <td>9.095028e+10</td>\n",
       "      <td>1.060000e+11</td>\n",
       "      <td>1.240000e+11</td>\n",
       "      <td>1.470000e+11</td>\n",
       "      <td>...</td>\n",
       "      <td>5.040000e+12</td>\n",
       "      <td>5.230000e+12</td>\n",
       "      <td>5.700000e+12</td>\n",
       "      <td>6.160000e+12</td>\n",
       "      <td>6.200000e+12</td>\n",
       "      <td>5.160000e+12</td>\n",
       "      <td>4.850000e+12</td>\n",
       "      <td>4.390000e+12</td>\n",
       "      <td>4.950000e+12</td>\n",
       "      <td>4.870000e+12</td>\n",
       "    </tr>\n",
       "  </tbody>\n",
       "</table>\n",
       "<p>1 rows × 59 columns</p>\n",
       "</div>"
      ],
      "text/plain": [
       "    Country Name          1960          1961          1962          1963  \\\n",
       "117        Japan  4.430734e+10  5.350862e+10  6.072302e+10  6.949813e+10   \n",
       "\n",
       "             1964          1965          1966          1967          1968  \\\n",
       "117  8.174901e+10  9.095028e+10  1.060000e+11  1.240000e+11  1.470000e+11   \n",
       "\n",
       "     ...          2008          2009          2010          2011  \\\n",
       "117  ...  5.040000e+12  5.230000e+12  5.700000e+12  6.160000e+12   \n",
       "\n",
       "             2012          2013          2014          2015          2016  \\\n",
       "117  6.200000e+12  5.160000e+12  4.850000e+12  4.390000e+12  4.950000e+12   \n",
       "\n",
       "             2017  \n",
       "117  4.870000e+12  \n",
       "\n",
       "[1 rows x 59 columns]"
      ]
     },
     "execution_count": 57,
     "metadata": {},
     "output_type": "execute_result"
    }
   ],
   "source": [
    "gdp_Jap = data2.loc[[117]]\n",
    "gdp_Jap"
   ]
  },
  {
   "cell_type": "code",
   "execution_count": 93,
   "metadata": {
    "scrolled": true
   },
   "outputs": [
    {
     "data": {
      "image/png": "[encoded data removed]",
      "text/plain": [
       "<Figure size 1152x504 with 1 Axes>"
      ]
     },
     "metadata": {},
     "output_type": "display_data"
    }
   ],
   "source": [
    "plt.figure(figsize=(16,7))\n",
    "plt.plot(data1)\n",
    "plt.plot(data3*10**6)\n",
    "plt.xticks(rotation=90)\n",
    "plt.grid()"
   ]
  },
  {
   "cell_type": "code",
   "execution_count": 59,
   "metadata": {},
   "outputs": [],
   "source": [
    "data_pop = pd.read_csv('http://drweb.nksh.tp.edu.tw/static/file/population_taiwan.csv')"
   ]
  },
  {
   "cell_type": "code",
   "execution_count": 60,
   "metadata": {},
   "outputs": [
    {
     "data": {
      "text/html": [
       "<div>\n",
       "<style scoped>\n",
       "    .dataframe tbody tr th:only-of-type {\n",
       "        vertical-align: middle;\n",
       "    }\n",
       "\n",
       "    .dataframe tbody tr th {\n",
       "        vertical-align: top;\n",
       "    }\n",
       "\n",
       "    .dataframe thead th {\n",
       "        text-align: right;\n",
       "    }\n",
       "</style>\n",
       "<table border=\"1\" class=\"dataframe\">\n",
       "  <thead>\n",
       "    <tr style=\"text-align: right;\">\n",
       "      <th></th>\n",
       "      <th>Country</th>\n",
       "      <th>1960</th>\n",
       "      <th>1961</th>\n",
       "      <th>1962</th>\n",
       "      <th>1963</th>\n",
       "      <th>1964</th>\n",
       "      <th>1965</th>\n",
       "      <th>1966</th>\n",
       "      <th>1967</th>\n",
       "      <th>1968</th>\n",
       "      <th>...</th>\n",
       "      <th>2008</th>\n",
       "      <th>2009</th>\n",
       "      <th>2010</th>\n",
       "      <th>2011</th>\n",
       "      <th>2012</th>\n",
       "      <th>2013</th>\n",
       "      <th>2014</th>\n",
       "      <th>2015</th>\n",
       "      <th>2016</th>\n",
       "      <th>2017</th>\n",
       "    </tr>\n",
       "  </thead>\n",
       "  <tbody>\n",
       "    <tr>\n",
       "      <th>0</th>\n",
       "      <td>Taiwan</td>\n",
       "      <td>10792202</td>\n",
       "      <td>11149139</td>\n",
       "      <td>11511728</td>\n",
       "      <td>11883523</td>\n",
       "      <td>12256682</td>\n",
       "      <td>12628348</td>\n",
       "      <td>12992763</td>\n",
       "      <td>13296571</td>\n",
       "      <td>13650370</td>\n",
       "      <td>...</td>\n",
       "      <td>23037031</td>\n",
       "      <td>23119772</td>\n",
       "      <td>23162123</td>\n",
       "      <td>23224912</td>\n",
       "      <td>23315822</td>\n",
       "      <td>23373517</td>\n",
       "      <td>23433753</td>\n",
       "      <td>23492074</td>\n",
       "      <td>23539816</td>\n",
       "      <td>23571227</td>\n",
       "    </tr>\n",
       "    <tr>\n",
       "      <th>1</th>\n",
       "      <td>0-14</td>\n",
       "      <td>4904397</td>\n",
       "      <td>5111677</td>\n",
       "      <td>5293356</td>\n",
       "      <td>5445602</td>\n",
       "      <td>5572647</td>\n",
       "      <td>5667341</td>\n",
       "      <td>5711500</td>\n",
       "      <td>5754885</td>\n",
       "      <td>5794187</td>\n",
       "      <td>...</td>\n",
       "      <td>3905203</td>\n",
       "      <td>3778018</td>\n",
       "      <td>3624311</td>\n",
       "      <td>3501790</td>\n",
       "      <td>3411677</td>\n",
       "      <td>3346601</td>\n",
       "      <td>3277300</td>\n",
       "      <td>3187780</td>\n",
       "      <td>3141881</td>\n",
       "      <td>3091873</td>\n",
       "    </tr>\n",
       "    <tr>\n",
       "      <th>2</th>\n",
       "      <td>15-64</td>\n",
       "      <td>5619967</td>\n",
       "      <td>5759469</td>\n",
       "      <td>5932300</td>\n",
       "      <td>6134810</td>\n",
       "      <td>6366648</td>\n",
       "      <td>6626496</td>\n",
       "      <td>6928640</td>\n",
       "      <td>7174806</td>\n",
       "      <td>7473582</td>\n",
       "      <td>...</td>\n",
       "      <td>16729608</td>\n",
       "      <td>16884106</td>\n",
       "      <td>17049919</td>\n",
       "      <td>17194873</td>\n",
       "      <td>17303993</td>\n",
       "      <td>17332510</td>\n",
       "      <td>17347763</td>\n",
       "      <td>17365715</td>\n",
       "      <td>17291830</td>\n",
       "      <td>17211341</td>\n",
       "    </tr>\n",
       "    <tr>\n",
       "      <th>3</th>\n",
       "      <td>65up</td>\n",
       "      <td>267838</td>\n",
       "      <td>277993</td>\n",
       "      <td>286072</td>\n",
       "      <td>303111</td>\n",
       "      <td>317387</td>\n",
       "      <td>334511</td>\n",
       "      <td>352623</td>\n",
       "      <td>366880</td>\n",
       "      <td>382601</td>\n",
       "      <td>...</td>\n",
       "      <td>2402220</td>\n",
       "      <td>2457648</td>\n",
       "      <td>2487893</td>\n",
       "      <td>2528249</td>\n",
       "      <td>2600152</td>\n",
       "      <td>2694406</td>\n",
       "      <td>2808690</td>\n",
       "      <td>2938579</td>\n",
       "      <td>3106105</td>\n",
       "      <td>3268013</td>\n",
       "    </tr>\n",
       "  </tbody>\n",
       "</table>\n",
       "<p>4 rows × 59 columns</p>\n",
       "</div>"
      ],
      "text/plain": [
       "  Country      1960      1961      1962      1963      1964      1965  \\\n",
       "0  Taiwan  10792202  11149139  11511728  11883523  12256682  12628348   \n",
       "1    0-14   4904397   5111677   5293356   5445602   5572647   5667341   \n",
       "2   15-64   5619967   5759469   5932300   6134810   6366648   6626496   \n",
       "3    65up    267838    277993    286072    303111    317387    334511   \n",
       "\n",
       "       1966      1967      1968  ...      2008      2009      2010      2011  \\\n",
       "0  12992763  13296571  13650370  ...  23037031  23119772  23162123  23224912   \n",
       "1   5711500   5754885   5794187  ...   3905203   3778018   3624311   3501790   \n",
       "2   6928640   7174806   7473582  ...  16729608  16884106  17049919  17194873   \n",
       "3    352623    366880    382601  ...   2402220   2457648   2487893   2528249   \n",
       "\n",
       "       2012      2013      2014      2015      2016      2017  \n",
       "0  23315822  23373517  23433753  23492074  23539816  23571227  \n",
       "1   3411677   3346601   3277300   3187780   3141881   3091873  \n",
       "2  17303993  17332510  17347763  17365715  17291830  17211341  \n",
       "3   2600152   2694406   2808690   2938579   3106105   3268013  \n",
       "\n",
       "[4 rows x 59 columns]"
      ]
     },
     "execution_count": 60,
     "metadata": {},
     "output_type": "execute_result"
    }
   ],
   "source": [
    "data_pop"
   ]
  },
  {
   "cell_type": "code",
   "execution_count": 61,
   "metadata": {},
   "outputs": [],
   "source": [
    "data2_pop = pd.read_csv('http://drweb.nksh.tp.edu.tw/static/file/population_world.csv')"
   ]
  },
  {
   "cell_type": "code",
   "execution_count": 62,
   "metadata": {
    "scrolled": true
   },
   "outputs": [
    {
     "data": {
      "text/plain": [
       "Country Name          Japan\n",
       "1960            9.25006e+07\n",
       "1961             9.4943e+07\n",
       "1962             9.5832e+07\n",
       "1963             9.6812e+07\n",
       "1964             9.7826e+07\n",
       "1965             9.8883e+07\n",
       "1966              9.979e+07\n",
       "1967            1.00725e+08\n",
       "1968            1.01061e+08\n",
       "1969            1.03172e+08\n",
       "1970            1.04345e+08\n",
       "1971            1.05697e+08\n",
       "1972            1.07188e+08\n",
       "1973            1.08079e+08\n",
       "1974            1.10162e+08\n",
       "1975             1.1194e+08\n",
       "1976            1.12771e+08\n",
       "1977            1.13863e+08\n",
       "1978            1.14898e+08\n",
       "1979             1.1587e+08\n",
       "1980            1.16782e+08\n",
       "1981            1.17648e+08\n",
       "1982            1.18449e+08\n",
       "1983            1.19259e+08\n",
       "1984            1.20018e+08\n",
       "1985            1.20754e+08\n",
       "1986            1.21492e+08\n",
       "1987            1.22091e+08\n",
       "1988            1.22613e+08\n",
       "1989            1.23116e+08\n",
       "1990            1.23537e+08\n",
       "1991            1.23921e+08\n",
       "1992            1.24229e+08\n",
       "1993            1.24536e+08\n",
       "1994            1.24961e+08\n",
       "1995            1.25439e+08\n",
       "1996            1.25757e+08\n",
       "1997            1.26057e+08\n",
       "1998              1.264e+08\n",
       "1999            1.26631e+08\n",
       "2000            1.26843e+08\n",
       "2001            1.27149e+08\n",
       "2002            1.27445e+08\n",
       "2003            1.27718e+08\n",
       "2004            1.27761e+08\n",
       "2005            1.27773e+08\n",
       "2006            1.27854e+08\n",
       "2007            1.28001e+08\n",
       "2008            1.28063e+08\n",
       "2009            1.28047e+08\n",
       "2010             1.2807e+08\n",
       "2011            1.27833e+08\n",
       "2012            1.27629e+08\n",
       "2013            1.27445e+08\n",
       "2014            1.27276e+08\n",
       "2015            1.27141e+08\n",
       "2016            1.26995e+08\n",
       "2017            1.26786e+08\n",
       "Name: 117, dtype: object"
      ]
     },
     "execution_count": 62,
     "metadata": {},
     "output_type": "execute_result"
    }
   ],
   "source": [
    "data2_pop.loc[117]"
   ]
  },
  {
   "cell_type": "code",
   "execution_count": 63,
   "metadata": {},
   "outputs": [
    {
     "data": {
      "text/html": [
       "<div>\n",
       "<style scoped>\n",
       "    .dataframe tbody tr th:only-of-type {\n",
       "        vertical-align: middle;\n",
       "    }\n",
       "\n",
       "    .dataframe tbody tr th {\n",
       "        vertical-align: top;\n",
       "    }\n",
       "\n",
       "    .dataframe thead th {\n",
       "        text-align: right;\n",
       "    }\n",
       "</style>\n",
       "<table border=\"1\" class=\"dataframe\">\n",
       "  <thead>\n",
       "    <tr style=\"text-align: right;\">\n",
       "      <th></th>\n",
       "      <th>Country</th>\n",
       "      <th>1960</th>\n",
       "      <th>1961</th>\n",
       "      <th>1962</th>\n",
       "      <th>1963</th>\n",
       "      <th>1964</th>\n",
       "      <th>1965</th>\n",
       "      <th>1966</th>\n",
       "      <th>1967</th>\n",
       "      <th>1968</th>\n",
       "      <th>...</th>\n",
       "      <th>2008</th>\n",
       "      <th>2009</th>\n",
       "      <th>2010</th>\n",
       "      <th>2011</th>\n",
       "      <th>2012</th>\n",
       "      <th>2013</th>\n",
       "      <th>2014</th>\n",
       "      <th>2015</th>\n",
       "      <th>2016</th>\n",
       "      <th>2017</th>\n",
       "    </tr>\n",
       "  </thead>\n",
       "  <tbody>\n",
       "    <tr>\n",
       "      <th>0</th>\n",
       "      <td>Taiwan</td>\n",
       "      <td>10792202</td>\n",
       "      <td>11149139</td>\n",
       "      <td>11511728</td>\n",
       "      <td>11883523</td>\n",
       "      <td>12256682</td>\n",
       "      <td>12628348</td>\n",
       "      <td>12992763</td>\n",
       "      <td>13296571</td>\n",
       "      <td>13650370</td>\n",
       "      <td>...</td>\n",
       "      <td>23037031</td>\n",
       "      <td>23119772</td>\n",
       "      <td>23162123</td>\n",
       "      <td>23224912</td>\n",
       "      <td>23315822</td>\n",
       "      <td>23373517</td>\n",
       "      <td>23433753</td>\n",
       "      <td>23492074</td>\n",
       "      <td>23539816</td>\n",
       "      <td>23571227</td>\n",
       "    </tr>\n",
       "    <tr>\n",
       "      <th>1</th>\n",
       "      <td>0-14</td>\n",
       "      <td>4904397</td>\n",
       "      <td>5111677</td>\n",
       "      <td>5293356</td>\n",
       "      <td>5445602</td>\n",
       "      <td>5572647</td>\n",
       "      <td>5667341</td>\n",
       "      <td>5711500</td>\n",
       "      <td>5754885</td>\n",
       "      <td>5794187</td>\n",
       "      <td>...</td>\n",
       "      <td>3905203</td>\n",
       "      <td>3778018</td>\n",
       "      <td>3624311</td>\n",
       "      <td>3501790</td>\n",
       "      <td>3411677</td>\n",
       "      <td>3346601</td>\n",
       "      <td>3277300</td>\n",
       "      <td>3187780</td>\n",
       "      <td>3141881</td>\n",
       "      <td>3091873</td>\n",
       "    </tr>\n",
       "    <tr>\n",
       "      <th>2</th>\n",
       "      <td>15-64</td>\n",
       "      <td>5619967</td>\n",
       "      <td>5759469</td>\n",
       "      <td>5932300</td>\n",
       "      <td>6134810</td>\n",
       "      <td>6366648</td>\n",
       "      <td>6626496</td>\n",
       "      <td>6928640</td>\n",
       "      <td>7174806</td>\n",
       "      <td>7473582</td>\n",
       "      <td>...</td>\n",
       "      <td>16729608</td>\n",
       "      <td>16884106</td>\n",
       "      <td>17049919</td>\n",
       "      <td>17194873</td>\n",
       "      <td>17303993</td>\n",
       "      <td>17332510</td>\n",
       "      <td>17347763</td>\n",
       "      <td>17365715</td>\n",
       "      <td>17291830</td>\n",
       "      <td>17211341</td>\n",
       "    </tr>\n",
       "    <tr>\n",
       "      <th>3</th>\n",
       "      <td>65up</td>\n",
       "      <td>267838</td>\n",
       "      <td>277993</td>\n",
       "      <td>286072</td>\n",
       "      <td>303111</td>\n",
       "      <td>317387</td>\n",
       "      <td>334511</td>\n",
       "      <td>352623</td>\n",
       "      <td>366880</td>\n",
       "      <td>382601</td>\n",
       "      <td>...</td>\n",
       "      <td>2402220</td>\n",
       "      <td>2457648</td>\n",
       "      <td>2487893</td>\n",
       "      <td>2528249</td>\n",
       "      <td>2600152</td>\n",
       "      <td>2694406</td>\n",
       "      <td>2808690</td>\n",
       "      <td>2938579</td>\n",
       "      <td>3106105</td>\n",
       "      <td>3268013</td>\n",
       "    </tr>\n",
       "  </tbody>\n",
       "</table>\n",
       "<p>4 rows × 59 columns</p>\n",
       "</div>"
      ],
      "text/plain": [
       "  Country      1960      1961      1962      1963      1964      1965  \\\n",
       "0  Taiwan  10792202  11149139  11511728  11883523  12256682  12628348   \n",
       "1    0-14   4904397   5111677   5293356   5445602   5572647   5667341   \n",
       "2   15-64   5619967   5759469   5932300   6134810   6366648   6626496   \n",
       "3    65up    267838    277993    286072    303111    317387    334511   \n",
       "\n",
       "       1966      1967      1968  ...      2008      2009      2010      2011  \\\n",
       "0  12992763  13296571  13650370  ...  23037031  23119772  23162123  23224912   \n",
       "1   5711500   5754885   5794187  ...   3905203   3778018   3624311   3501790   \n",
       "2   6928640   7174806   7473582  ...  16729608  16884106  17049919  17194873   \n",
       "3    352623    366880    382601  ...   2402220   2457648   2487893   2528249   \n",
       "\n",
       "       2012      2013      2014      2015      2016      2017  \n",
       "0  23315822  23373517  23433753  23492074  23539816  23571227  \n",
       "1   3411677   3346601   3277300   3187780   3141881   3091873  \n",
       "2  17303993  17332510  17347763  17365715  17291830  17211341  \n",
       "3   2600152   2694406   2808690   2938579   3106105   3268013  \n",
       "\n",
       "[4 rows x 59 columns]"
      ]
     },
     "execution_count": 63,
     "metadata": {},
     "output_type": "execute_result"
    }
   ],
   "source": [
    "data_pop.head()"
   ]
  },
  {
   "cell_type": "code",
   "execution_count": 64,
   "metadata": {},
   "outputs": [],
   "source": [
    "Taiwan_pop = data_pop.loc[0][1:]"
   ]
  },
  {
   "cell_type": "code",
   "execution_count": 65,
   "metadata": {
    "scrolled": true
   },
   "outputs": [
    {
     "data": {
      "text/plain": [
       "1960    10792202\n",
       "1961    11149139\n",
       "1962    11511728\n",
       "1963    11883523\n",
       "1964    12256682\n",
       "1965    12628348\n",
       "1966    12992763\n",
       "1967    13296571\n",
       "1968    13650370\n",
       "1969    14334862\n",
       "1970    14675964\n",
       "1971    14994823\n",
       "1972    15367774\n",
       "1973    15642467\n",
       "1974    15927167\n",
       "1975    16223089\n",
       "1976    16579737\n",
       "1977    16882053\n",
       "1978    17202491\n",
       "1979    17543067\n",
       "1980    17866008\n",
       "1981    18193955\n",
       "1982    18515754\n",
       "1983    18790538\n",
       "1984    19069194\n",
       "1985    19313825\n",
       "1986    19509082\n",
       "1987    19725010\n",
       "1988    19954397\n",
       "1989    20156587\n",
       "1990    20401305\n",
       "1991    20605831\n",
       "1992    20802622\n",
       "1993    20995416\n",
       "1994    21177874\n",
       "1995    21357431\n",
       "1996    21525433\n",
       "1997    21742815\n",
       "1998    21928591\n",
       "1999    22092387\n",
       "2000    22276672\n",
       "2001    22405568\n",
       "2002    22520776\n",
       "2003    22604550\n",
       "2004    22689122\n",
       "2005    22770383\n",
       "2006    22876527\n",
       "2007    22958360\n",
       "2008    23037031\n",
       "2009    23119772\n",
       "2010    23162123\n",
       "2011    23224912\n",
       "2012    23315822\n",
       "2013    23373517\n",
       "2014    23433753\n",
       "2015    23492074\n",
       "2016    23539816\n",
       "2017    23571227\n",
       "Name: 0, dtype: object"
      ]
     },
     "execution_count": 65,
     "metadata": {},
     "output_type": "execute_result"
    }
   ],
   "source": [
    "Taiwan_pop"
   ]
  },
  {
   "cell_type": "code",
   "execution_count": 66,
   "metadata": {},
   "outputs": [
    {
     "data": {
      "text/plain": [
       "pandas.core.series.Series"
      ]
     },
     "execution_count": 66,
     "metadata": {},
     "output_type": "execute_result"
    }
   ],
   "source": [
    "type(Taiwan_GDP/Taiwan_pop)"
   ]
  },
  {
   "cell_type": "code",
   "execution_count": 67,
   "metadata": {},
   "outputs": [
    {
     "data": {
      "image/png": "[encoded data removed]",
      "text/plain": [
       "<Figure size 720x432 with 1 Axes>"
      ]
     },
     "metadata": {},
     "output_type": "display_data"
    }
   ],
   "source": [
    "plt.figure(figsize=(10,6))\n",
    "plt.plot(years, Taiwan_GDP/Taiwan_pop,'.-',label='Taiwan')\n",
    "plt.xlabel('year')\n",
    "plt.ylabel('GDP/person')\n",
    "plt.title('Taiwan GDP/person')\n",
    "plt.grid()"
   ]
  },
  {
   "cell_type": "code",
   "execution_count": 68,
   "metadata": {},
   "outputs": [],
   "source": [
    "data1 = pd.read_csv('http://drweb.nksh.tp.edu.tw/static/file/gdp_taiwan.csv')\n",
    "data2 = pd.read_csv('http://drweb.nksh.tp.edu.tw/static/file/gdp_world.csv')"
   ]
  },
  {
   "cell_type": "code",
   "execution_count": 69,
   "metadata": {
    "scrolled": true
   },
   "outputs": [
    {
     "data": {
      "text/plain": [
       "Country Name          Japan\n",
       "1960            4.43073e+10\n",
       "1961            5.35086e+10\n",
       "1962             6.0723e+10\n",
       "1963            6.94981e+10\n",
       "1964             8.1749e+10\n",
       "1965            9.09503e+10\n",
       "1966               1.06e+11\n",
       "1967               1.24e+11\n",
       "1968               1.47e+11\n",
       "1969               1.72e+11\n",
       "1970               2.13e+11\n",
       "1971                2.4e+11\n",
       "1972               3.18e+11\n",
       "1973               4.32e+11\n",
       "1974                4.8e+11\n",
       "1975               5.22e+11\n",
       "1976               5.86e+11\n",
       "1977               7.21e+11\n",
       "1978               1.01e+12\n",
       "1979               1.06e+12\n",
       "1980               1.11e+12\n",
       "1981               1.22e+12\n",
       "1982               1.13e+12\n",
       "1983               1.24e+12\n",
       "1984               1.32e+12\n",
       "1985                1.4e+12\n",
       "1986               2.08e+12\n",
       "1987               2.53e+12\n",
       "1988               3.07e+12\n",
       "1989               3.05e+12\n",
       "1990               3.13e+12\n",
       "1991               3.58e+12\n",
       "1992               3.91e+12\n",
       "1993               4.45e+12\n",
       "1994               4.91e+12\n",
       "1995               5.45e+12\n",
       "1996               4.83e+12\n",
       "1997               4.41e+12\n",
       "1998               4.03e+12\n",
       "1999               4.56e+12\n",
       "2000               4.89e+12\n",
       "2001                4.3e+12\n",
       "2002               4.12e+12\n",
       "2003               4.45e+12\n",
       "2004               4.82e+12\n",
       "2005               4.76e+12\n",
       "2006               4.53e+12\n",
       "2007               4.52e+12\n",
       "2008               5.04e+12\n",
       "2009               5.23e+12\n",
       "2010                5.7e+12\n",
       "2011               6.16e+12\n",
       "2012                6.2e+12\n",
       "2013               5.16e+12\n",
       "2014               4.85e+12\n",
       "2015               4.39e+12\n",
       "2016               4.95e+12\n",
       "2017               4.87e+12\n",
       "Name: 117, dtype: object"
      ]
     },
     "execution_count": 69,
     "metadata": {},
     "output_type": "execute_result"
    }
   ],
   "source": [
    "data2.loc[117]"
   ]
  },
  {
   "cell_type": "code",
   "execution_count": 70,
   "metadata": {
    "scrolled": true
   },
   "outputs": [
    {
     "name": "stdout",
     "output_type": "stream",
     "text": [
      "Country Name          Japan\n",
      "1960            4.43073e+10\n",
      "1961            5.35086e+10\n",
      "1962             6.0723e+10\n",
      "1963            6.94981e+10\n",
      "1964             8.1749e+10\n",
      "1965            9.09503e+10\n",
      "1966               1.06e+11\n",
      "1967               1.24e+11\n",
      "1968               1.47e+11\n",
      "1969               1.72e+11\n",
      "1970               2.13e+11\n",
      "1971                2.4e+11\n",
      "1972               3.18e+11\n",
      "1973               4.32e+11\n",
      "1974                4.8e+11\n",
      "1975               5.22e+11\n",
      "1976               5.86e+11\n",
      "1977               7.21e+11\n",
      "1978               1.01e+12\n",
      "1979               1.06e+12\n",
      "1980               1.11e+12\n",
      "1981               1.22e+12\n",
      "1982               1.13e+12\n",
      "1983               1.24e+12\n",
      "1984               1.32e+12\n",
      "1985                1.4e+12\n",
      "1986               2.08e+12\n",
      "1987               2.53e+12\n",
      "1988               3.07e+12\n",
      "1989               3.05e+12\n",
      "1990               3.13e+12\n",
      "1991               3.58e+12\n",
      "1992               3.91e+12\n",
      "1993               4.45e+12\n",
      "1994               4.91e+12\n",
      "1995               5.45e+12\n",
      "1996               4.83e+12\n",
      "1997               4.41e+12\n",
      "1998               4.03e+12\n",
      "1999               4.56e+12\n",
      "2000               4.89e+12\n",
      "2001                4.3e+12\n",
      "2002               4.12e+12\n",
      "2003               4.45e+12\n",
      "2004               4.82e+12\n",
      "2005               4.76e+12\n",
      "2006               4.53e+12\n",
      "2007               4.52e+12\n",
      "2008               5.04e+12\n",
      "2009               5.23e+12\n",
      "2010                5.7e+12\n",
      "2011               6.16e+12\n",
      "2012                6.2e+12\n",
      "2013               5.16e+12\n",
      "2014               4.85e+12\n",
      "2015               4.39e+12\n",
      "2016               4.95e+12\n",
      "2017               4.87e+12\n",
      "Name: 117, dtype: object\n"
     ]
    }
   ],
   "source": [
    "Taiwan = data1.loc[0,:]\n",
    "country = data2.loc[117]\n",
    "print(country)\n",
    "years = np.linspace(1960, 2017, 58) # 製造從 1960 至 2017 的年"
   ]
  },
  {
   "cell_type": "code",
   "execution_count": 71,
   "metadata": {},
   "outputs": [
    {
     "data": {
      "image/png": "[encoded data removed]",
      "text/plain": [
       "<Figure size 576x432 with 1 Axes>"
      ]
     },
     "metadata": {},
     "output_type": "display_data"
    }
   ],
   "source": [
    "plt.figure(figsize=(8,6))\n",
    "plt.plot(years,country[1:],label='Japan')\n",
    "plt.plot(years,Taiwan[1:]*1000000,label='Taiwan')\n",
    "plt.xlabel('year')\n",
    "plt.ylabel('GDP')\n",
    "plt.title('year vs GDP')\n",
    "plt.legend()\n",
    "plt.grid()"
   ]
  },
  {
   "cell_type": "code",
   "execution_count": 72,
   "metadata": {},
   "outputs": [],
   "source": [
    "data = pd.read_csv('http://drweb.nksh.tp.edu.tw/static/file/gdp_taiwan.csv')\n",
    "data2 = pd.read_csv('http://drweb.nksh.tp.edu.tw/static/file/gdp_world.csv')\n",
    "data_pop = pd.read_csv('http://drweb.nksh.tp.edu.tw/static/file/population_taiwan.csv')\n",
    "data2_pop = pd.read_csv('http://drweb.nksh.tp.edu.tw/static/file/population_world.csv')"
   ]
  },
  {
   "cell_type": "code",
   "execution_count": 73,
   "metadata": {},
   "outputs": [
    {
     "data": {
      "text/plain": [
       "pandas.core.series.Series"
      ]
     },
     "execution_count": 73,
     "metadata": {},
     "output_type": "execute_result"
    }
   ],
   "source": [
    "type(data2.loc[117][1:])"
   ]
  },
  {
   "cell_type": "code",
   "execution_count": 74,
   "metadata": {},
   "outputs": [
    {
     "data": {
      "image/png": "[encoded data removed]",
      "text/plain": [
       "<Figure size 576x432 with 1 Axes>"
      ]
     },
     "metadata": {},
     "output_type": "display_data"
    }
   ],
   "source": [
    "plt.rcParams['font.sans-serif'] = ['Microsoft JhengHei'] \n",
    "plt.figure(figsize=(8,6))\n",
    "plt.plot(years,data2.loc[117][1:]/data2_pop.loc[117][1:],label='Japan 日本')\n",
    "plt.plot(years,data.loc[0][1:]*1000000/data_pop.loc[0][1:],label='Taiwan 台灣')\n",
    "plt.xlabel('year')\n",
    "plt.ylabel('GDP/person')\n",
    "plt.title('year vs GDP/person')\n",
    "plt.legend()\n",
    "plt.grid()"
   ]
  },
  {
   "cell_type": "code",
   "execution_count": 75,
   "metadata": {
    "scrolled": true
   },
   "outputs": [
    {
     "data": {
      "text/plain": [
       "1960    4.43073e+10\n",
       "1961    5.35086e+10\n",
       "1962     6.0723e+10\n",
       "1963    6.94981e+10\n",
       "1964     8.1749e+10\n",
       "1965    9.09503e+10\n",
       "1966       1.06e+11\n",
       "1967       1.24e+11\n",
       "1968       1.47e+11\n",
       "1969       1.72e+11\n",
       "1970       2.13e+11\n",
       "1971        2.4e+11\n",
       "1972       3.18e+11\n",
       "1973       4.32e+11\n",
       "1974        4.8e+11\n",
       "1975       5.22e+11\n",
       "1976       5.86e+11\n",
       "1977       7.21e+11\n",
       "1978       1.01e+12\n",
       "1979       1.06e+12\n",
       "1980       1.11e+12\n",
       "1981       1.22e+12\n",
       "1982       1.13e+12\n",
       "1983       1.24e+12\n",
       "1984       1.32e+12\n",
       "1985        1.4e+12\n",
       "1986       2.08e+12\n",
       "1987       2.53e+12\n",
       "1988       3.07e+12\n",
       "1989       3.05e+12\n",
       "1990       3.13e+12\n",
       "1991       3.58e+12\n",
       "1992       3.91e+12\n",
       "1993       4.45e+12\n",
       "1994       4.91e+12\n",
       "1995       5.45e+12\n",
       "1996       4.83e+12\n",
       "1997       4.41e+12\n",
       "1998       4.03e+12\n",
       "1999       4.56e+12\n",
       "2000       4.89e+12\n",
       "2001        4.3e+12\n",
       "2002       4.12e+12\n",
       "2003       4.45e+12\n",
       "2004       4.82e+12\n",
       "2005       4.76e+12\n",
       "2006       4.53e+12\n",
       "2007       4.52e+12\n",
       "2008       5.04e+12\n",
       "2009       5.23e+12\n",
       "2010        5.7e+12\n",
       "2011       6.16e+12\n",
       "2012        6.2e+12\n",
       "2013       5.16e+12\n",
       "2014       4.85e+12\n",
       "2015       4.39e+12\n",
       "2016       4.95e+12\n",
       "2017       4.87e+12\n",
       "Name: 117, dtype: object"
      ]
     },
     "execution_count": 75,
     "metadata": {},
     "output_type": "execute_result"
    }
   ],
   "source": [
    "country[1:]"
   ]
  },
  {
   "cell_type": "code",
   "execution_count": 76,
   "metadata": {
    "scrolled": true
   },
   "outputs": [
    {
     "data": {
      "text/plain": [
       "Country Name          Japan\n",
       "1960            4.43073e+10\n",
       "1961            5.35086e+10\n",
       "1962             6.0723e+10\n",
       "1963            6.94981e+10\n",
       "1964             8.1749e+10\n",
       "1965            9.09503e+10\n",
       "1966               1.06e+11\n",
       "1967               1.24e+11\n",
       "1968               1.47e+11\n",
       "1969               1.72e+11\n",
       "1970               2.13e+11\n",
       "1971                2.4e+11\n",
       "1972               3.18e+11\n",
       "1973               4.32e+11\n",
       "1974                4.8e+11\n",
       "1975               5.22e+11\n",
       "1976               5.86e+11\n",
       "1977               7.21e+11\n",
       "1978               1.01e+12\n",
       "1979               1.06e+12\n",
       "1980               1.11e+12\n",
       "1981               1.22e+12\n",
       "1982               1.13e+12\n",
       "1983               1.24e+12\n",
       "1984               1.32e+12\n",
       "1985                1.4e+12\n",
       "1986               2.08e+12\n",
       "1987               2.53e+12\n",
       "1988               3.07e+12\n",
       "1989               3.05e+12\n",
       "1990               3.13e+12\n",
       "1991               3.58e+12\n",
       "1992               3.91e+12\n",
       "1993               4.45e+12\n",
       "1994               4.91e+12\n",
       "1995               5.45e+12\n",
       "1996               4.83e+12\n",
       "1997               4.41e+12\n",
       "1998               4.03e+12\n",
       "1999               4.56e+12\n",
       "2000               4.89e+12\n",
       "2001                4.3e+12\n",
       "2002               4.12e+12\n",
       "2003               4.45e+12\n",
       "2004               4.82e+12\n",
       "2005               4.76e+12\n",
       "2006               4.53e+12\n",
       "2007               4.52e+12\n",
       "2008               5.04e+12\n",
       "2009               5.23e+12\n",
       "2010                5.7e+12\n",
       "2011               6.16e+12\n",
       "2012                6.2e+12\n",
       "2013               5.16e+12\n",
       "2014               4.85e+12\n",
       "2015               4.39e+12\n",
       "2016               4.95e+12\n",
       "2017               4.87e+12\n",
       "Name: 117, dtype: object"
      ]
     },
     "execution_count": 76,
     "metadata": {},
     "output_type": "execute_result"
    }
   ],
   "source": [
    "country"
   ]
  }
 ],
 "metadata": {
  "kernelspec": {
   "display_name": "Python 3",
   "language": "python",
   "name": "python3"
  },
  "language_info": {
   "codemirror_mode": {
    "name": "ipython",
    "version": 3
   },
   "file_extension": ".py",
   "mimetype": "text/x-python",
   "name": "python",
   "nbconvert_exporter": "python",
   "pygments_lexer": "ipython3",
   "version": "3.6.5"
  },
  "varInspector": {
   "cols": {
    "lenName": 16,
    "lenType": 16,
    "lenVar": 40
   },
   "kernels_config": {
    "python": {
     "delete_cmd_postfix": "",
     "delete_cmd_prefix": "del ",
     "library": "var_list.py",
     "varRefreshCmd": "print(var_dic_list())"
    },
    "r": {
     "delete_cmd_postfix": ") ",
     "delete_cmd_prefix": "rm(",
     "library": "var_list.r",
     "varRefreshCmd": "cat(var_dic_list()) "
    }
   },
   "types_to_exclude": [
    "module",
    "function",
    "builtin_function_or_method",
    "instance",
    "_Feature"
   ],
   "window_display": false
  }
 },
 "nbformat": 4,
 "nbformat_minor": 2
}
