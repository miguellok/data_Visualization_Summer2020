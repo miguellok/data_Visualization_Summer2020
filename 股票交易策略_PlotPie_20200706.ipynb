{
 "cells": [
  {
   "cell_type": "code",
   "execution_count": 1,
   "metadata": {},
   "outputs": [
    {
     "name": "stdout",
     "output_type": "stream",
     "text": [
      "hello\n"
     ]
    }
   ],
   "source": [
    "print(\"hello\")"
   ]
  },
  {
   "cell_type": "code",
   "execution_count": 2,
   "metadata": {},
   "outputs": [
    {
     "name": "stdout",
     "output_type": "stream",
     "text": [
      "0\n",
      "1\n",
      "2\n",
      "3\n",
      "4\n",
      "5\n",
      "6\n",
      "7\n",
      "8\n",
      "9\n"
     ]
    }
   ],
   "source": [
    "for i in range(10):\n",
    "    print(i)"
   ]
  },
  {
   "cell_type": "code",
   "execution_count": 3,
   "metadata": {},
   "outputs": [],
   "source": [
    "num = 12"
   ]
  },
  {
   "cell_type": "code",
   "execution_count": 4,
   "metadata": {},
   "outputs": [],
   "source": [
    "list1 = [10,20,30,40,50]"
   ]
  },
  {
   "cell_type": "code",
   "execution_count": 5,
   "metadata": {},
   "outputs": [],
   "source": [
    "p = 0"
   ]
  },
  {
   "cell_type": "code",
   "execution_count": 6,
   "metadata": {},
   "outputs": [
    {
     "name": "stdout",
     "output_type": "stream",
     "text": [
      "0\n"
     ]
    }
   ],
   "source": [
    "print(p)"
   ]
  },
  {
   "cell_type": "code",
   "execution_count": 7,
   "metadata": {},
   "outputs": [
    {
     "name": "stdout",
     "output_type": "stream",
     "text": [
      "0\n",
      "i= 0 , list1= 10\n",
      "sum1= 10\n",
      "1\n",
      "i= 1 , list1= 20\n",
      "sum1= 30\n",
      "2\n",
      "i= 2 , list1= 30\n",
      "sum1= 60\n",
      "3\n",
      "i= 3 , list1= 40\n",
      "sum1= 100\n",
      "4\n",
      "i= 4 , list1= 50\n",
      "sum1= 150\n",
      "30.0\n"
     ]
    }
   ],
   "source": [
    "sum1 = 0\n",
    "for i in range(0,len(list1),1):\n",
    "    print(i)\n",
    "    print('i=',i,', list1=',list1[i])\n",
    "    sum1 = sum1 + list1[i]\n",
    "    print('sum1=',sum1)\n",
    "print(sum1/len(list1))"
   ]
  },
  {
   "cell_type": "code",
   "execution_count": 8,
   "metadata": {},
   "outputs": [
    {
     "name": "stdout",
     "output_type": "stream",
     "text": [
      "4\n"
     ]
    }
   ],
   "source": [
    "print(i)"
   ]
  },
  {
   "cell_type": "code",
   "execution_count": 9,
   "metadata": {},
   "outputs": [
    {
     "name": "stdout",
     "output_type": "stream",
     "text": [
      "30.0\n"
     ]
    }
   ],
   "source": [
    "sum1 =0 \n",
    "for i in list1:\n",
    "    sum1 = sum1 +i\n",
    "print(sum1/len(list1))"
   ]
  },
  {
   "cell_type": "code",
   "execution_count": 10,
   "metadata": {},
   "outputs": [],
   "source": [
    "l1 = [4,3,2]"
   ]
  },
  {
   "cell_type": "code",
   "execution_count": 11,
   "metadata": {},
   "outputs": [
    {
     "data": {
      "text/plain": [
       "list"
      ]
     },
     "execution_count": 11,
     "metadata": {},
     "output_type": "execute_result"
    }
   ],
   "source": [
    "type(l1)"
   ]
  },
  {
   "cell_type": "code",
   "execution_count": 12,
   "metadata": {},
   "outputs": [],
   "source": [
    "l1.append(1) "
   ]
  },
  {
   "cell_type": "code",
   "execution_count": 13,
   "metadata": {},
   "outputs": [
    {
     "name": "stdout",
     "output_type": "stream",
     "text": [
      "10\n"
     ]
    }
   ],
   "source": [
    "l1.append(eval(input()))"
   ]
  },
  {
   "cell_type": "code",
   "execution_count": 14,
   "metadata": {},
   "outputs": [
    {
     "data": {
      "text/plain": [
       "[4, 3, 2, 1, 10]"
      ]
     },
     "execution_count": 14,
     "metadata": {},
     "output_type": "execute_result"
    }
   ],
   "source": [
    "l1"
   ]
  },
  {
   "cell_type": "markdown",
   "metadata": {},
   "source": [
    "# 假設現在我們有5檔股票, 每檔股票有幾股, 把每檔股票的總價放到一個新的list裏,例如台積電股票每股200元,手上2股,400"
   ]
  },
  {
   "cell_type": "code",
   "execution_count": 15,
   "metadata": {},
   "outputs": [],
   "source": [
    "stock_name = ['台積電','聯詠','聯發科','鴻海']\n",
    "stock_price = [200,500,600,900]\n",
    "stock_vol = [2,3]\n",
    "stock_value = [400,1500,1800,1800]\n",
    "total_value = 1900"
   ]
  },
  {
   "cell_type": "code",
   "execution_count": 16,
   "metadata": {},
   "outputs": [],
   "source": [
    "import matplotlib.pyplot as plt"
   ]
  },
  {
   "cell_type": "code",
   "execution_count": 17,
   "metadata": {},
   "outputs": [
    {
     "data": {
      "text/plain": [
       "[<matplotlib.lines.Line2D at 0x239fb3fb470>]"
      ]
     },
     "execution_count": 17,
     "metadata": {},
     "output_type": "execute_result"
    },
    {
     "data": {
      "image/png": "[encoded data removed]",
      "text/plain": [
       "<Figure size 432x288 with 1 Axes>"
      ]
     },
     "metadata": {},
     "output_type": "display_data"
    }
   ],
   "source": [
    "#plt.rcParams['font.sans-serif'] = ['Microsoft JhengHei'] \n",
    "plt.plot(stock_price,'o-')"
   ]
  },
  {
   "cell_type": "code",
   "execution_count": 18,
   "metadata": {},
   "outputs": [
    {
     "data": {
      "text/plain": [
       "([<matplotlib.patches.Wedge at 0x239fb496b70>,\n",
       "  <matplotlib.patches.Wedge at 0x239fb4a0278>,\n",
       "  <matplotlib.patches.Wedge at 0x239fb4a0a20>,\n",
       "  <matplotlib.patches.Wedge at 0x239fb4ac208>],\n",
       " [Text(1.07141,0.249146,'台積電'),\n",
       "  Text(0.27964,1.06386,'聯詠'),\n",
       "  Text(-1.09821,-0.0627977,'聯發科'),\n",
       "  Text(0.568037,-0.941984,'鴻海')],\n",
       " [Text(0.584407,0.135898,'7.3%'),\n",
       "  Text(0.152531,0.580288,'27.3%'),\n",
       "  Text(-0.599021,-0.0342533,'32.7%'),\n",
       "  Text(0.309838,-0.513809,'32.7%')])"
      ]
     },
     "execution_count": 18,
     "metadata": {},
     "output_type": "execute_result"
    },
    {
     "data": {
      "image/png": "[encoded data removed]",
      "text/plain": [
       "<Figure size 576x432 with 1 Axes>"
      ]
     },
     "metadata": {},
     "output_type": "display_data"
    }
   ],
   "source": [
    "plt.rcParams['font.sans-serif'] = ['Microsoft JhengHei'] \n",
    "plt.figure(figsize=(8,6))\n",
    "plt.pie(stock_value,labels=stock_name,autopct='%1.1f%%')"
   ]
  },
  {
   "cell_type": "code",
   "execution_count": 19,
   "metadata": {},
   "outputs": [],
   "source": [
    "l1 = [100,102,98,97,100]\n",
    "x1 = [1,2,3,4,5]"
   ]
  },
  {
   "cell_type": "markdown",
   "metadata": {},
   "source": [
    "# 折線圖: 可以觀察時間的趨勢"
   ]
  },
  {
   "cell_type": "code",
   "execution_count": 20,
   "metadata": {},
   "outputs": [
    {
     "data": {
      "text/plain": [
       "[<matplotlib.lines.Line2D at 0x239fb4e4be0>]"
      ]
     },
     "execution_count": 20,
     "metadata": {},
     "output_type": "execute_result"
    },
    {
     "data": {
      "image/png": "[encoded data removed]",
      "text/plain": [
       "<Figure size 432x288 with 1 Axes>"
      ]
     },
     "metadata": {},
     "output_type": "display_data"
    }
   ],
   "source": [
    "plt.plot(x1,l1,'o-')"
   ]
  },
  {
   "cell_type": "markdown",
   "metadata": {},
   "source": [
    "# 圓餅圖"
   ]
  },
  {
   "cell_type": "code",
   "execution_count": 21,
   "metadata": {},
   "outputs": [
    {
     "data": {
      "text/plain": [
       "([<matplotlib.patches.Wedge at 0x239fb54e438>,\n",
       "  <matplotlib.patches.Wedge at 0x239fb54eb70>,\n",
       "  <matplotlib.patches.Wedge at 0x239fb555358>,\n",
       "  <matplotlib.patches.Wedge at 0x239fb555b00>],\n",
       " [Text(1.07141,0.249146,'台積電'),\n",
       "  Text(0.27964,1.06386,'聯詠'),\n",
       "  Text(-1.09821,-0.0627977,'聯發科'),\n",
       "  Text(0.568037,-0.941984,'鴻海')],\n",
       " [Text(0.584407,0.135898,'7.3%'),\n",
       "  Text(0.152531,0.580288,'27.3%'),\n",
       "  Text(-0.599021,-0.0342533,'32.7%'),\n",
       "  Text(0.309838,-0.513809,'32.7%')])"
      ]
     },
     "execution_count": 21,
     "metadata": {},
     "output_type": "execute_result"
    },
    {
     "data": {
      "image/png": "[encoded data removed]",
      "text/plain": [
       "<Figure size 432x288 with 1 Axes>"
      ]
     },
     "metadata": {},
     "output_type": "display_data"
    }
   ],
   "source": [
    "plt.rcParams['font.sans-serif'] = ['Microsoft JhengHei'] \n",
    "plt.pie(stock_value,labels=stock_name,autopct='%1.1f%%')"
   ]
  },
  {
   "cell_type": "code",
   "execution_count": 22,
   "metadata": {},
   "outputs": [
    {
     "data": {
      "text/plain": [
       "0.03333333333333333"
      ]
     },
     "execution_count": 22,
     "metadata": {},
     "output_type": "execute_result"
    }
   ],
   "source": [
    "(310-300)/300"
   ]
  },
  {
   "cell_type": "code",
   "execution_count": 23,
   "metadata": {},
   "outputs": [],
   "source": [
    "principle = 10000"
   ]
  },
  {
   "cell_type": "code",
   "execution_count": 24,
   "metadata": {},
   "outputs": [],
   "source": [
    "import pandas as pd"
   ]
  },
  {
   "cell_type": "code",
   "execution_count": 25,
   "metadata": {},
   "outputs": [],
   "source": [
    "stock_0050 = pd.read_csv('0050_June.csv',encoding='cp950',skiprows=1)\n",
    "stock_2330 = pd.read_csv('2330_June.csv',encoding='cp950',skiprows=1)"
   ]
  },
  {
   "cell_type": "code",
   "execution_count": 26,
   "metadata": {},
   "outputs": [],
   "source": [
    "stock_0050 = stock_0050.iloc[0:20,:]\n",
    "stock_0050.dropna(axis=1,inplace=True)\n",
    "stock_2330 = stock_2330.iloc[0:20,:]\n",
    "stock_2330.dropna(axis=1,inplace=True)"
   ]
  },
  {
   "cell_type": "code",
   "execution_count": 27,
   "metadata": {},
   "outputs": [],
   "source": [
    "stock_0050['日期'] = stock_0050['日期'].str.replace('109','2020')\n",
    "stock_2330['日期'] = stock_2330['日期'].str.replace('109','2020')"
   ]
  },
  {
   "cell_type": "code",
   "execution_count": 28,
   "metadata": {},
   "outputs": [
    {
     "data": {
      "text/html": [
       "<div>\n",
       "<style scoped>\n",
       "    .dataframe tbody tr th:only-of-type {\n",
       "        vertical-align: middle;\n",
       "    }\n",
       "\n",
       "    .dataframe tbody tr th {\n",
       "        vertical-align: top;\n",
       "    }\n",
       "\n",
       "    .dataframe thead th {\n",
       "        text-align: right;\n",
       "    }\n",
       "</style>\n",
       "<table border=\"1\" class=\"dataframe\">\n",
       "  <thead>\n",
       "    <tr style=\"text-align: right;\">\n",
       "      <th></th>\n",
       "      <th>日期</th>\n",
       "      <th>成交股數</th>\n",
       "      <th>成交金額</th>\n",
       "      <th>開盤價</th>\n",
       "      <th>最高價</th>\n",
       "      <th>最低價</th>\n",
       "      <th>收盤價</th>\n",
       "      <th>漲跌價差</th>\n",
       "      <th>成交筆數</th>\n",
       "    </tr>\n",
       "  </thead>\n",
       "  <tbody>\n",
       "    <tr>\n",
       "      <th>0</th>\n",
       "      <td>2020/06/01</td>\n",
       "      <td>8,365,321</td>\n",
       "      <td>709,979,535</td>\n",
       "      <td>84.45</td>\n",
       "      <td>85.15</td>\n",
       "      <td>84.40</td>\n",
       "      <td>84.90</td>\n",
       "      <td>0.45</td>\n",
       "      <td>4,221</td>\n",
       "    </tr>\n",
       "    <tr>\n",
       "      <th>1</th>\n",
       "      <td>2020/06/02</td>\n",
       "      <td>11,947,060</td>\n",
       "      <td>1,019,866,379</td>\n",
       "      <td>85.00</td>\n",
       "      <td>85.50</td>\n",
       "      <td>85.00</td>\n",
       "      <td>85.30</td>\n",
       "      <td>0.40</td>\n",
       "      <td>4,546</td>\n",
       "    </tr>\n",
       "    <tr>\n",
       "      <th>2</th>\n",
       "      <td>2020/06/03</td>\n",
       "      <td>18,117,244</td>\n",
       "      <td>1,567,235,805</td>\n",
       "      <td>86.15</td>\n",
       "      <td>86.90</td>\n",
       "      <td>86.10</td>\n",
       "      <td>86.80</td>\n",
       "      <td>1.50</td>\n",
       "      <td>7,251</td>\n",
       "    </tr>\n",
       "    <tr>\n",
       "      <th>3</th>\n",
       "      <td>2020/06/04</td>\n",
       "      <td>15,036,553</td>\n",
       "      <td>1,315,498,861</td>\n",
       "      <td>87.50</td>\n",
       "      <td>87.75</td>\n",
       "      <td>87.15</td>\n",
       "      <td>87.60</td>\n",
       "      <td>0.80</td>\n",
       "      <td>6,182</td>\n",
       "    </tr>\n",
       "    <tr>\n",
       "      <th>4</th>\n",
       "      <td>2020/06/05</td>\n",
       "      <td>9,916,582</td>\n",
       "      <td>873,460,722</td>\n",
       "      <td>87.70</td>\n",
       "      <td>88.35</td>\n",
       "      <td>87.70</td>\n",
       "      <td>88.35</td>\n",
       "      <td>0.75</td>\n",
       "      <td>5,501</td>\n",
       "    </tr>\n",
       "  </tbody>\n",
       "</table>\n",
       "</div>"
      ],
      "text/plain": [
       "           日期        成交股數           成交金額    開盤價    最高價    最低價    收盤價  漲跌價差  \\\n",
       "0  2020/06/01   8,365,321    709,979,535  84.45  85.15  84.40  84.90  0.45   \n",
       "1  2020/06/02  11,947,060  1,019,866,379  85.00  85.50  85.00  85.30  0.40   \n",
       "2  2020/06/03  18,117,244  1,567,235,805  86.15  86.90  86.10  86.80  1.50   \n",
       "3  2020/06/04  15,036,553  1,315,498,861  87.50  87.75  87.15  87.60  0.80   \n",
       "4  2020/06/05   9,916,582    873,460,722  87.70  88.35  87.70  88.35  0.75   \n",
       "\n",
       "    成交筆數  \n",
       "0  4,221  \n",
       "1  4,546  \n",
       "2  7,251  \n",
       "3  6,182  \n",
       "4  5,501  "
      ]
     },
     "execution_count": 28,
     "metadata": {},
     "output_type": "execute_result"
    }
   ],
   "source": [
    "stock_0050.head()"
   ]
  },
  {
   "cell_type": "code",
   "execution_count": 29,
   "metadata": {},
   "outputs": [
    {
     "data": {
      "text/plain": [
       "0    2020-06-01\n",
       "1    2020-06-02\n",
       "2    2020-06-03\n",
       "3    2020-06-04\n",
       "4    2020-06-05\n",
       "5    2020-06-08\n",
       "6    2020-06-09\n",
       "7    2020-06-10\n",
       "8    2020-06-11\n",
       "9    2020-06-12\n",
       "10   2020-06-15\n",
       "11   2020-06-16\n",
       "12   2020-06-17\n",
       "13   2020-06-18\n",
       "14   2020-06-19\n",
       "15   2020-06-22\n",
       "16   2020-06-23\n",
       "17   2020-06-24\n",
       "18   2020-06-29\n",
       "19   2020-06-30\n",
       "Name: 日期, dtype: datetime64[ns]"
      ]
     },
     "execution_count": 29,
     "metadata": {},
     "output_type": "execute_result"
    }
   ],
   "source": [
    "pd.to_datetime(stock_0050['日期'], format ='%Y/%m/%d')\n",
    "pd.to_datetime(stock_2330['日期'], format ='%Y/%m/%d')"
   ]
  },
  {
   "cell_type": "code",
   "execution_count": 30,
   "metadata": {},
   "outputs": [
    {
     "data": {
      "text/html": [
       "<div>\n",
       "<style scoped>\n",
       "    .dataframe tbody tr th:only-of-type {\n",
       "        vertical-align: middle;\n",
       "    }\n",
       "\n",
       "    .dataframe tbody tr th {\n",
       "        vertical-align: top;\n",
       "    }\n",
       "\n",
       "    .dataframe thead th {\n",
       "        text-align: right;\n",
       "    }\n",
       "</style>\n",
       "<table border=\"1\" class=\"dataframe\">\n",
       "  <thead>\n",
       "    <tr style=\"text-align: right;\">\n",
       "      <th></th>\n",
       "      <th>日期</th>\n",
       "      <th>成交股數</th>\n",
       "      <th>成交金額</th>\n",
       "      <th>開盤價</th>\n",
       "      <th>最高價</th>\n",
       "      <th>最低價</th>\n",
       "      <th>收盤價</th>\n",
       "      <th>漲跌價差</th>\n",
       "      <th>成交筆數</th>\n",
       "    </tr>\n",
       "  </thead>\n",
       "  <tbody>\n",
       "    <tr>\n",
       "      <th>0</th>\n",
       "      <td>2020/06/01</td>\n",
       "      <td>8,365,321</td>\n",
       "      <td>709,979,535</td>\n",
       "      <td>84.45</td>\n",
       "      <td>85.15</td>\n",
       "      <td>84.40</td>\n",
       "      <td>84.90</td>\n",
       "      <td>0.45</td>\n",
       "      <td>4,221</td>\n",
       "    </tr>\n",
       "    <tr>\n",
       "      <th>1</th>\n",
       "      <td>2020/06/02</td>\n",
       "      <td>11,947,060</td>\n",
       "      <td>1,019,866,379</td>\n",
       "      <td>85.00</td>\n",
       "      <td>85.50</td>\n",
       "      <td>85.00</td>\n",
       "      <td>85.30</td>\n",
       "      <td>0.40</td>\n",
       "      <td>4,546</td>\n",
       "    </tr>\n",
       "    <tr>\n",
       "      <th>2</th>\n",
       "      <td>2020/06/03</td>\n",
       "      <td>18,117,244</td>\n",
       "      <td>1,567,235,805</td>\n",
       "      <td>86.15</td>\n",
       "      <td>86.90</td>\n",
       "      <td>86.10</td>\n",
       "      <td>86.80</td>\n",
       "      <td>1.50</td>\n",
       "      <td>7,251</td>\n",
       "    </tr>\n",
       "    <tr>\n",
       "      <th>3</th>\n",
       "      <td>2020/06/04</td>\n",
       "      <td>15,036,553</td>\n",
       "      <td>1,315,498,861</td>\n",
       "      <td>87.50</td>\n",
       "      <td>87.75</td>\n",
       "      <td>87.15</td>\n",
       "      <td>87.60</td>\n",
       "      <td>0.80</td>\n",
       "      <td>6,182</td>\n",
       "    </tr>\n",
       "    <tr>\n",
       "      <th>4</th>\n",
       "      <td>2020/06/05</td>\n",
       "      <td>9,916,582</td>\n",
       "      <td>873,460,722</td>\n",
       "      <td>87.70</td>\n",
       "      <td>88.35</td>\n",
       "      <td>87.70</td>\n",
       "      <td>88.35</td>\n",
       "      <td>0.75</td>\n",
       "      <td>5,501</td>\n",
       "    </tr>\n",
       "    <tr>\n",
       "      <th>5</th>\n",
       "      <td>2020/06/08</td>\n",
       "      <td>15,549,542</td>\n",
       "      <td>1,388,746,538</td>\n",
       "      <td>88.90</td>\n",
       "      <td>89.80</td>\n",
       "      <td>88.80</td>\n",
       "      <td>89.50</td>\n",
       "      <td>1.15</td>\n",
       "      <td>7,617</td>\n",
       "    </tr>\n",
       "    <tr>\n",
       "      <th>6</th>\n",
       "      <td>2020/06/09</td>\n",
       "      <td>11,356,579</td>\n",
       "      <td>1,016,232,445</td>\n",
       "      <td>89.60</td>\n",
       "      <td>89.80</td>\n",
       "      <td>88.95</td>\n",
       "      <td>89.60</td>\n",
       "      <td>0.10</td>\n",
       "      <td>4,738</td>\n",
       "    </tr>\n",
       "    <tr>\n",
       "      <th>7</th>\n",
       "      <td>2020/06/10</td>\n",
       "      <td>10,998,897</td>\n",
       "      <td>992,706,489</td>\n",
       "      <td>89.65</td>\n",
       "      <td>90.70</td>\n",
       "      <td>89.55</td>\n",
       "      <td>90.45</td>\n",
       "      <td>0.85</td>\n",
       "      <td>6,189</td>\n",
       "    </tr>\n",
       "    <tr>\n",
       "      <th>8</th>\n",
       "      <td>2020/06/11</td>\n",
       "      <td>14,179,192</td>\n",
       "      <td>1,274,547,880</td>\n",
       "      <td>90.45</td>\n",
       "      <td>90.85</td>\n",
       "      <td>89.00</td>\n",
       "      <td>89.05</td>\n",
       "      <td>-1.40</td>\n",
       "      <td>6,785</td>\n",
       "    </tr>\n",
       "    <tr>\n",
       "      <th>9</th>\n",
       "      <td>2020/06/12</td>\n",
       "      <td>21,563,371</td>\n",
       "      <td>1,896,372,312</td>\n",
       "      <td>87.25</td>\n",
       "      <td>88.50</td>\n",
       "      <td>87.10</td>\n",
       "      <td>88.25</td>\n",
       "      <td>-0.80</td>\n",
       "      <td>9,065</td>\n",
       "    </tr>\n",
       "    <tr>\n",
       "      <th>10</th>\n",
       "      <td>2020/06/15</td>\n",
       "      <td>9,573,700</td>\n",
       "      <td>839,035,110</td>\n",
       "      <td>88.10</td>\n",
       "      <td>88.30</td>\n",
       "      <td>86.90</td>\n",
       "      <td>87.00</td>\n",
       "      <td>-1.25</td>\n",
       "      <td>6,066</td>\n",
       "    </tr>\n",
       "    <tr>\n",
       "      <th>11</th>\n",
       "      <td>2020/06/16</td>\n",
       "      <td>10,841,047</td>\n",
       "      <td>962,708,421</td>\n",
       "      <td>88.15</td>\n",
       "      <td>89.20</td>\n",
       "      <td>88.15</td>\n",
       "      <td>88.90</td>\n",
       "      <td>1.90</td>\n",
       "      <td>5,206</td>\n",
       "    </tr>\n",
       "    <tr>\n",
       "      <th>12</th>\n",
       "      <td>2020/06/17</td>\n",
       "      <td>11,510,236</td>\n",
       "      <td>1,022,814,504</td>\n",
       "      <td>89.20</td>\n",
       "      <td>89.20</td>\n",
       "      <td>88.30</td>\n",
       "      <td>89.00</td>\n",
       "      <td>0.10</td>\n",
       "      <td>9,354</td>\n",
       "    </tr>\n",
       "    <tr>\n",
       "      <th>13</th>\n",
       "      <td>2020/06/18</td>\n",
       "      <td>5,035,751</td>\n",
       "      <td>447,396,539</td>\n",
       "      <td>89.05</td>\n",
       "      <td>89.30</td>\n",
       "      <td>88.35</td>\n",
       "      <td>88.90</td>\n",
       "      <td>-0.10</td>\n",
       "      <td>2,385</td>\n",
       "    </tr>\n",
       "    <tr>\n",
       "      <th>14</th>\n",
       "      <td>2020/06/19</td>\n",
       "      <td>2,333,985</td>\n",
       "      <td>207,473,976</td>\n",
       "      <td>89.00</td>\n",
       "      <td>89.15</td>\n",
       "      <td>88.65</td>\n",
       "      <td>88.85</td>\n",
       "      <td>-0.05</td>\n",
       "      <td>1,483</td>\n",
       "    </tr>\n",
       "    <tr>\n",
       "      <th>15</th>\n",
       "      <td>2020/06/22</td>\n",
       "      <td>10,579,456</td>\n",
       "      <td>943,788,276</td>\n",
       "      <td>88.85</td>\n",
       "      <td>89.70</td>\n",
       "      <td>88.85</td>\n",
       "      <td>89.05</td>\n",
       "      <td>0.20</td>\n",
       "      <td>3,109</td>\n",
       "    </tr>\n",
       "    <tr>\n",
       "      <th>16</th>\n",
       "      <td>2020/06/23</td>\n",
       "      <td>8,664,889</td>\n",
       "      <td>775,774,053</td>\n",
       "      <td>89.60</td>\n",
       "      <td>90.05</td>\n",
       "      <td>88.80</td>\n",
       "      <td>89.45</td>\n",
       "      <td>0.40</td>\n",
       "      <td>3,040</td>\n",
       "    </tr>\n",
       "    <tr>\n",
       "      <th>17</th>\n",
       "      <td>2020/06/24</td>\n",
       "      <td>10,061,904</td>\n",
       "      <td>907,813,260</td>\n",
       "      <td>89.80</td>\n",
       "      <td>90.50</td>\n",
       "      <td>89.80</td>\n",
       "      <td>90.00</td>\n",
       "      <td>0.55</td>\n",
       "      <td>4,330</td>\n",
       "    </tr>\n",
       "    <tr>\n",
       "      <th>18</th>\n",
       "      <td>2020/06/29</td>\n",
       "      <td>9,785,007</td>\n",
       "      <td>872,080,579</td>\n",
       "      <td>89.25</td>\n",
       "      <td>89.60</td>\n",
       "      <td>88.65</td>\n",
       "      <td>89.10</td>\n",
       "      <td>-0.90</td>\n",
       "      <td>5,184</td>\n",
       "    </tr>\n",
       "    <tr>\n",
       "      <th>19</th>\n",
       "      <td>2020/06/30</td>\n",
       "      <td>8,035,137</td>\n",
       "      <td>720,381,822</td>\n",
       "      <td>89.55</td>\n",
       "      <td>89.95</td>\n",
       "      <td>89.40</td>\n",
       "      <td>89.90</td>\n",
       "      <td>0.80</td>\n",
       "      <td>2,697</td>\n",
       "    </tr>\n",
       "  </tbody>\n",
       "</table>\n",
       "</div>"
      ],
      "text/plain": [
       "            日期        成交股數           成交金額    開盤價    最高價    最低價    收盤價  漲跌價差  \\\n",
       "0   2020/06/01   8,365,321    709,979,535  84.45  85.15  84.40  84.90  0.45   \n",
       "1   2020/06/02  11,947,060  1,019,866,379  85.00  85.50  85.00  85.30  0.40   \n",
       "2   2020/06/03  18,117,244  1,567,235,805  86.15  86.90  86.10  86.80  1.50   \n",
       "3   2020/06/04  15,036,553  1,315,498,861  87.50  87.75  87.15  87.60  0.80   \n",
       "4   2020/06/05   9,916,582    873,460,722  87.70  88.35  87.70  88.35  0.75   \n",
       "5   2020/06/08  15,549,542  1,388,746,538  88.90  89.80  88.80  89.50  1.15   \n",
       "6   2020/06/09  11,356,579  1,016,232,445  89.60  89.80  88.95  89.60  0.10   \n",
       "7   2020/06/10  10,998,897    992,706,489  89.65  90.70  89.55  90.45  0.85   \n",
       "8   2020/06/11  14,179,192  1,274,547,880  90.45  90.85  89.00  89.05 -1.40   \n",
       "9   2020/06/12  21,563,371  1,896,372,312  87.25  88.50  87.10  88.25 -0.80   \n",
       "10  2020/06/15   9,573,700    839,035,110  88.10  88.30  86.90  87.00 -1.25   \n",
       "11  2020/06/16  10,841,047    962,708,421  88.15  89.20  88.15  88.90  1.90   \n",
       "12  2020/06/17  11,510,236  1,022,814,504  89.20  89.20  88.30  89.00  0.10   \n",
       "13  2020/06/18   5,035,751    447,396,539  89.05  89.30  88.35  88.90 -0.10   \n",
       "14  2020/06/19   2,333,985    207,473,976  89.00  89.15  88.65  88.85 -0.05   \n",
       "15  2020/06/22  10,579,456    943,788,276  88.85  89.70  88.85  89.05  0.20   \n",
       "16  2020/06/23   8,664,889    775,774,053  89.60  90.05  88.80  89.45  0.40   \n",
       "17  2020/06/24  10,061,904    907,813,260  89.80  90.50  89.80  90.00  0.55   \n",
       "18  2020/06/29   9,785,007    872,080,579  89.25  89.60  88.65  89.10 -0.90   \n",
       "19  2020/06/30   8,035,137    720,381,822  89.55  89.95  89.40  89.90  0.80   \n",
       "\n",
       "     成交筆數  \n",
       "0   4,221  \n",
       "1   4,546  \n",
       "2   7,251  \n",
       "3   6,182  \n",
       "4   5,501  \n",
       "5   7,617  \n",
       "6   4,738  \n",
       "7   6,189  \n",
       "8   6,785  \n",
       "9   9,065  \n",
       "10  6,066  \n",
       "11  5,206  \n",
       "12  9,354  \n",
       "13  2,385  \n",
       "14  1,483  \n",
       "15  3,109  \n",
       "16  3,040  \n",
       "17  4,330  \n",
       "18  5,184  \n",
       "19  2,697  "
      ]
     },
     "execution_count": 30,
     "metadata": {},
     "output_type": "execute_result"
    }
   ],
   "source": [
    "stock_0050"
   ]
  },
  {
   "cell_type": "code",
   "execution_count": 31,
   "metadata": {},
   "outputs": [],
   "source": [
    "stock_0050.set_index('日期',inplace=True)\n",
    "stock_2330.set_index('日期',inplace=True)"
   ]
  },
  {
   "cell_type": "code",
   "execution_count": 32,
   "metadata": {},
   "outputs": [
    {
     "data": {
      "text/html": [
       "<div>\n",
       "<style scoped>\n",
       "    .dataframe tbody tr th:only-of-type {\n",
       "        vertical-align: middle;\n",
       "    }\n",
       "\n",
       "    .dataframe tbody tr th {\n",
       "        vertical-align: top;\n",
       "    }\n",
       "\n",
       "    .dataframe thead th {\n",
       "        text-align: right;\n",
       "    }\n",
       "</style>\n",
       "<table border=\"1\" class=\"dataframe\">\n",
       "  <thead>\n",
       "    <tr style=\"text-align: right;\">\n",
       "      <th></th>\n",
       "      <th>成交股數</th>\n",
       "      <th>成交金額</th>\n",
       "      <th>開盤價</th>\n",
       "      <th>最高價</th>\n",
       "      <th>最低價</th>\n",
       "      <th>收盤價</th>\n",
       "      <th>漲跌價差</th>\n",
       "      <th>成交筆數</th>\n",
       "    </tr>\n",
       "    <tr>\n",
       "      <th>日期</th>\n",
       "      <th></th>\n",
       "      <th></th>\n",
       "      <th></th>\n",
       "      <th></th>\n",
       "      <th></th>\n",
       "      <th></th>\n",
       "      <th></th>\n",
       "      <th></th>\n",
       "    </tr>\n",
       "  </thead>\n",
       "  <tbody>\n",
       "    <tr>\n",
       "      <th>2020/06/01</th>\n",
       "      <td>8,365,321</td>\n",
       "      <td>709,979,535</td>\n",
       "      <td>84.45</td>\n",
       "      <td>85.15</td>\n",
       "      <td>84.40</td>\n",
       "      <td>84.90</td>\n",
       "      <td>0.45</td>\n",
       "      <td>4,221</td>\n",
       "    </tr>\n",
       "    <tr>\n",
       "      <th>2020/06/02</th>\n",
       "      <td>11,947,060</td>\n",
       "      <td>1,019,866,379</td>\n",
       "      <td>85.00</td>\n",
       "      <td>85.50</td>\n",
       "      <td>85.00</td>\n",
       "      <td>85.30</td>\n",
       "      <td>0.40</td>\n",
       "      <td>4,546</td>\n",
       "    </tr>\n",
       "    <tr>\n",
       "      <th>2020/06/03</th>\n",
       "      <td>18,117,244</td>\n",
       "      <td>1,567,235,805</td>\n",
       "      <td>86.15</td>\n",
       "      <td>86.90</td>\n",
       "      <td>86.10</td>\n",
       "      <td>86.80</td>\n",
       "      <td>1.50</td>\n",
       "      <td>7,251</td>\n",
       "    </tr>\n",
       "    <tr>\n",
       "      <th>2020/06/04</th>\n",
       "      <td>15,036,553</td>\n",
       "      <td>1,315,498,861</td>\n",
       "      <td>87.50</td>\n",
       "      <td>87.75</td>\n",
       "      <td>87.15</td>\n",
       "      <td>87.60</td>\n",
       "      <td>0.80</td>\n",
       "      <td>6,182</td>\n",
       "    </tr>\n",
       "    <tr>\n",
       "      <th>2020/06/05</th>\n",
       "      <td>9,916,582</td>\n",
       "      <td>873,460,722</td>\n",
       "      <td>87.70</td>\n",
       "      <td>88.35</td>\n",
       "      <td>87.70</td>\n",
       "      <td>88.35</td>\n",
       "      <td>0.75</td>\n",
       "      <td>5,501</td>\n",
       "    </tr>\n",
       "  </tbody>\n",
       "</table>\n",
       "</div>"
      ],
      "text/plain": [
       "                  成交股數           成交金額    開盤價    最高價    最低價    收盤價  漲跌價差   成交筆數\n",
       "日期                                                                            \n",
       "2020/06/01   8,365,321    709,979,535  84.45  85.15  84.40  84.90  0.45  4,221\n",
       "2020/06/02  11,947,060  1,019,866,379  85.00  85.50  85.00  85.30  0.40  4,546\n",
       "2020/06/03  18,117,244  1,567,235,805  86.15  86.90  86.10  86.80  1.50  7,251\n",
       "2020/06/04  15,036,553  1,315,498,861  87.50  87.75  87.15  87.60  0.80  6,182\n",
       "2020/06/05   9,916,582    873,460,722  87.70  88.35  87.70  88.35  0.75  5,501"
      ]
     },
     "execution_count": 32,
     "metadata": {},
     "output_type": "execute_result"
    }
   ],
   "source": [
    "stock_0050.head()\n"
   ]
  },
  {
   "cell_type": "code",
   "execution_count": 33,
   "metadata": {},
   "outputs": [
    {
     "data": {
      "text/plain": [
       "Index(['2020/06/01', '2020/06/02', '2020/06/03', '2020/06/04', '2020/06/05',\n",
       "       '2020/06/08', '2020/06/09', '2020/06/10', '2020/06/11', '2020/06/12',\n",
       "       '2020/06/15', '2020/06/16', '2020/06/17', '2020/06/18', '2020/06/19',\n",
       "       '2020/06/22', '2020/06/23', '2020/06/24', '2020/06/29', '2020/06/30'],\n",
       "      dtype='object', name='日期')"
      ]
     },
     "execution_count": 33,
     "metadata": {},
     "output_type": "execute_result"
    }
   ],
   "source": [
    "stock_0050.index"
   ]
  },
  {
   "cell_type": "code",
   "execution_count": 34,
   "metadata": {},
   "outputs": [],
   "source": [
    "start = '2020/06/01'\n",
    "end   = '2020/06/20'\n",
    "stock_0050_open = list(stock_0050.loc[start:end,'開盤價'])\n",
    "stock_0050_close = list(stock_0050.loc[start:end,'收盤價'])\n",
    "stock_2330_open = list(stock_2330.loc[start:end,'開盤價'])\n",
    "stock_2330_close = list(stock_2330.loc[start:end,'收盤價'])"
   ]
  },
  {
   "cell_type": "code",
   "execution_count": 35,
   "metadata": {
    "scrolled": true
   },
   "outputs": [
    {
     "data": {
      "text/plain": [
       "[84.45,\n",
       " 85.0,\n",
       " 86.15,\n",
       " 87.5,\n",
       " 87.7,\n",
       " 88.9,\n",
       " 89.6,\n",
       " 89.65,\n",
       " 90.45,\n",
       " 87.25,\n",
       " 88.1,\n",
       " 88.15,\n",
       " 89.2,\n",
       " 89.05,\n",
       " 89.0]"
      ]
     },
     "execution_count": 35,
     "metadata": {},
     "output_type": "execute_result"
    }
   ],
   "source": [
    "stock_0050_open"
   ]
  },
  {
   "cell_type": "code",
   "execution_count": 36,
   "metadata": {},
   "outputs": [
    {
     "data": {
      "text/plain": [
       "[84.9,\n",
       " 85.3,\n",
       " 86.8,\n",
       " 87.6,\n",
       " 88.35,\n",
       " 89.5,\n",
       " 89.6,\n",
       " 90.45,\n",
       " 89.05,\n",
       " 88.25,\n",
       " 87.0,\n",
       " 88.9,\n",
       " 89.0,\n",
       " 88.9,\n",
       " 88.85]"
      ]
     },
     "execution_count": 36,
     "metadata": {},
     "output_type": "execute_result"
    }
   ],
   "source": [
    "stock_0050_close"
   ]
  },
  {
   "cell_type": "code",
   "execution_count": 37,
   "metadata": {},
   "outputs": [],
   "source": [
    "capital = 10000\n",
    "capital_0050 = capital\n",
    "capital_2330 = capital"
   ]
  },
  {
   "cell_type": "code",
   "execution_count": 38,
   "metadata": {},
   "outputs": [],
   "source": [
    "money_0050=[capital]\n",
    "money_2330=[capital]"
   ]
  },
  {
   "cell_type": "code",
   "execution_count": 39,
   "metadata": {},
   "outputs": [
    {
     "data": {
      "text/plain": [
       "list"
      ]
     },
     "execution_count": 39,
     "metadata": {},
     "output_type": "execute_result"
    }
   ],
   "source": [
    "(type(money_0050))"
   ]
  },
  {
   "cell_type": "code",
   "execution_count": 40,
   "metadata": {},
   "outputs": [],
   "source": [
    "for i in range(len(stock_0050_open)):\n",
    "    vol_0050 = int(capital_0050/stock_0050_open[i])\n",
    "    capital_0050 = capital_0050 + vol_0050*(stock_0050_close[i]-stock_0050_open[i])\n",
    "    vol_2330 = int(capital_2330/stock_2330_open[i])\n",
    "    capital_2330 = capital_2330 + vol_2330*(stock_2330_close[i]-stock_2330_open[i])\n",
    "    money_0050.append(capital_0050)\n",
    "    money_2330.append(capital_2330)\n",
    "    #print(capital_0050)"
   ]
  },
  {
   "cell_type": "code",
   "execution_count": 41,
   "metadata": {},
   "outputs": [
    {
     "data": {
      "image/png": "[encoded data removed]",
      "text/plain": [
       "<Figure size 432x288 with 1 Axes>"
      ]
     },
     "metadata": {},
     "output_type": "display_data"
    }
   ],
   "source": [
    "plt.plot(money_0050,'*-',label='0050')\n",
    "plt.plot(money_2330,'o-',label='TSMC')\n",
    "plt.legend()\n",
    "plt.grid()"
   ]
  },
  {
   "cell_type": "markdown",
   "metadata": {},
   "source": [
    "# Bar Charts: 長條圖"
   ]
  },
  {
   "cell_type": "code",
   "execution_count": 52,
   "metadata": {},
   "outputs": [
    {
     "data": {
      "text/plain": [
       "Index(['2020/06/01', '2020/06/02', '2020/06/03', '2020/06/04', '2020/06/05',\n",
       "       '2020/06/08', '2020/06/09', '2020/06/10', '2020/06/11', '2020/06/12',\n",
       "       '2020/06/15', '2020/06/16', '2020/06/17', '2020/06/18', '2020/06/19',\n",
       "       '2020/06/22', '2020/06/23', '2020/06/24', '2020/06/29', '2020/06/30'],\n",
       "      dtype='object', name='日期')"
      ]
     },
     "execution_count": 52,
     "metadata": {},
     "output_type": "execute_result"
    }
   ],
   "source": [
    "stock_0050.index"
   ]
  },
  {
   "cell_type": "code",
   "execution_count": 48,
   "metadata": {},
   "outputs": [
    {
     "data": {
      "text/plain": [
       "日期\n",
       "2020/06/01     8,365,321\n",
       "2020/06/02    11,947,060\n",
       "2020/06/03    18,117,244\n",
       "2020/06/04    15,036,553\n",
       "2020/06/05     9,916,582\n",
       "2020/06/08    15,549,542\n",
       "2020/06/09    11,356,579\n",
       "2020/06/10    10,998,897\n",
       "2020/06/11    14,179,192\n",
       "2020/06/12    21,563,371\n",
       "2020/06/15     9,573,700\n",
       "2020/06/16    10,841,047\n",
       "2020/06/17    11,510,236\n",
       "2020/06/18     5,035,751\n",
       "2020/06/19     2,333,985\n",
       "2020/06/22    10,579,456\n",
       "2020/06/23     8,664,889\n",
       "2020/06/24    10,061,904\n",
       "2020/06/29     9,785,007\n",
       "2020/06/30     8,035,137\n",
       "Name: 成交股數, dtype: object"
      ]
     },
     "execution_count": 48,
     "metadata": {},
     "output_type": "execute_result"
    }
   ],
   "source": [
    "stock_0050[\"成交股數\"]"
   ]
  },
  {
   "cell_type": "code",
   "execution_count": 61,
   "metadata": {},
   "outputs": [],
   "source": [
    "stock_0050[\"成交股數_num\"] = stock_0050[\"成交股數\"].str.replace(',','').astype(int)"
   ]
  },
  {
   "cell_type": "code",
   "execution_count": 62,
   "metadata": {},
   "outputs": [
    {
     "data": {
      "text/plain": [
       "日期\n",
       "2020/06/01     8365321\n",
       "2020/06/02    11947060\n",
       "2020/06/03    18117244\n",
       "2020/06/04    15036553\n",
       "2020/06/05     9916582\n",
       "2020/06/08    15549542\n",
       "2020/06/09    11356579\n",
       "2020/06/10    10998897\n",
       "2020/06/11    14179192\n",
       "2020/06/12    21563371\n",
       "2020/06/15     9573700\n",
       "2020/06/16    10841047\n",
       "2020/06/17    11510236\n",
       "2020/06/18     5035751\n",
       "2020/06/19     2333985\n",
       "2020/06/22    10579456\n",
       "2020/06/23     8664889\n",
       "2020/06/24    10061904\n",
       "2020/06/29     9785007\n",
       "2020/06/30     8035137\n",
       "Name: 成交股數_num, dtype: int32"
      ]
     },
     "execution_count": 62,
     "metadata": {},
     "output_type": "execute_result"
    }
   ],
   "source": [
    "stock_0050[\"成交股數_num\"] "
   ]
  },
  {
   "cell_type": "code",
   "execution_count": 69,
   "metadata": {},
   "outputs": [
    {
     "data": {
      "image/png": "[encoded data removed]",
      "text/plain": [
       "<Figure size 864x576 with 1 Axes>"
      ]
     },
     "metadata": {},
     "output_type": "display_data"
    }
   ],
   "source": [
    "plt.rcParams['font.sans-serif'] = ['Microsoft JhengHei'] \n",
    "plt.figure(figsize=(12,8))\n",
    "plt.bar(stock_0050.index,stock_0050[\"成交股數_num\"])\n",
    "plt.xticks(rotation=90,fontsize=11)\n",
    "plt.yticks(fontsize=11)\n",
    "plt.title(\"成交股數\",fontsize=15)\n",
    "plt.grid()"
   ]
  },
  {
   "cell_type": "code",
   "execution_count": 57,
   "metadata": {},
   "outputs": [
    {
     "data": {
      "text/plain": [
       "日期\n",
       "2020/06/01     8,365,321\n",
       "2020/06/02    11,947,060\n",
       "2020/06/03    18,117,244\n",
       "2020/06/04    15,036,553\n",
       "2020/06/05     9,916,582\n",
       "2020/06/08    15,549,542\n",
       "2020/06/09    11,356,579\n",
       "2020/06/10    10,998,897\n",
       "2020/06/11    14,179,192\n",
       "2020/06/12    21,563,371\n",
       "2020/06/15     9,573,700\n",
       "2020/06/16    10,841,047\n",
       "2020/06/17    11,510,236\n",
       "2020/06/18     5,035,751\n",
       "2020/06/19     2,333,985\n",
       "2020/06/22    10,579,456\n",
       "2020/06/23     8,664,889\n",
       "2020/06/24    10,061,904\n",
       "2020/06/29     9,785,007\n",
       "2020/06/30     8,035,137\n",
       "Name: 成交股數, dtype: object"
      ]
     },
     "execution_count": 57,
     "metadata": {},
     "output_type": "execute_result"
    }
   ],
   "source": [
    "stock_0050[\"成交股數\"]"
   ]
  },
  {
   "cell_type": "code",
   "execution_count": null,
   "metadata": {},
   "outputs": [],
   "source": []
  }
 ],
 "metadata": {
  "kernelspec": {
   "display_name": "Python 3",
   "language": "python",
   "name": "python3"
  },
  "language_info": {
   "codemirror_mode": {
    "name": "ipython",
    "version": 3
   },
   "file_extension": ".py",
   "mimetype": "text/x-python",
   "name": "python",
   "nbconvert_exporter": "python",
   "pygments_lexer": "ipython3",
   "version": "3.6.5"
  },
  "varInspector": {
   "cols": {
    "lenName": 16,
    "lenType": 16,
    "lenVar": 40
   },
   "kernels_config": {
    "python": {
     "delete_cmd_postfix": "",
     "delete_cmd_prefix": "del ",
     "library": "var_list.py",
     "varRefreshCmd": "print(var_dic_list())"
    },
    "r": {
     "delete_cmd_postfix": ") ",
     "delete_cmd_prefix": "rm(",
     "library": "var_list.r",
     "varRefreshCmd": "cat(var_dic_list()) "
    }
   },
   "types_to_exclude": [
    "module",
    "function",
    "builtin_function_or_method",
    "instance",
    "_Feature"
   ],
   "window_display": false
  }
 },
 "nbformat": 4,
 "nbformat_minor": 2
}
